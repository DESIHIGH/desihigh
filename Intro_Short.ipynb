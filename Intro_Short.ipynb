{
 "cells": [
  {
   "cell_type": "markdown",
   "metadata": {},
   "source": [
    "# Welcome! This notebook will give you a short introduction to the science mission of the Dark Energy Spectroscopic Instrument (DESI)"
   ]
  },
  {
   "cell_type": "markdown",
   "metadata": {},
   "source": [
    "Read on to learn more about dark energy, cosmic map-making, spectroscopy, and how we measure the distances to far away galaxies."
   ]
  },
  {
   "cell_type": "markdown",
   "metadata": {},
   "source": [
    "# *Origins of DESI: The Mystery of Dark Energy*"
   ]
  },
  {
   "cell_type": "markdown",
   "metadata": {},
   "source": [
    "Our universe is expanding. Astronomical observations tell us that the space between galaxies is getting larger over time, while the galaxies themselves stay the same size. This expansion is well understood and is explained by Albert Einstein's theory of General Relativity. When the universe started with the Big Bang, it was small, hot, and dense, and it has since expanded up until the present day.\n"
   ]
  },
  {
   "cell_type": "markdown",
   "metadata": {},
   "source": [
    "![title](desihigh/images/universe-history.png)"
   ]
  },
  {
   "cell_type": "markdown",
   "metadata": {},
   "source": [
    "The above illustration shows a timeline of the universe's expansion and the changes in its physical conditions at various points in its history (image credit: NASA)."
   ]
  },
  {
   "cell_type": "markdown",
   "metadata": {},
   "source": [
    "One surprising observation is that the universe's expansion is getting faster. When this accelerating expansion was first discovered in the years 1998 and 1999, we didn't know what was causing it. In fact, we still know very little about the physical cause of the accelerating expansion, which we attribute to a mysterious form of energy called **dark energy**. Studying and learning more about dark energy is one of the greatest undertakings in modern physics."
   ]
  },
  {
   "cell_type": "markdown",
   "metadata": {},
   "source": [
    "# *Mapping the Universe to Study Dark Energy*"
   ]
  },
  {
   "cell_type": "markdown",
   "metadata": {},
   "source": [
    "One way that we can study dark energy is by making a giant, three-dimensional map of the universe. The universe's expansion history is encoded in the positions of galaxies. By mapping the distances to millions of galaxies far away from our own, we can learn more about how dark energy has affected the universe's expansion over time."
   ]
  },
  {
   "cell_type": "markdown",
   "metadata": {},
   "source": [
    "![title](desihigh/images/DESI-map.png)"
   ]
  },
  {
   "cell_type": "markdown",
   "metadata": {},
   "source": [
    "The above illustration shows a cross-section of the 3D map created by the DESI collaboration, with each speck of light being one of millions of galaxies that DESI observes (image credit: Claire Lamman and the DESI Collaboration)."
   ]
  },
  {
   "cell_type": "markdown",
   "metadata": {},
   "source": [
    "To make a 3D map of the universe, we need a way to calculate how far away distant galaxies are from us. The light that these galaxies emit takes time to travel to us. As the light waves travel, they get stretched out to longer wavelengths by the expanding universe. The farther a galaxy is away from us, the more time it will take for its light to reach us, and the longer its wavelength will be. To the human eye, longer wavelengths of light appear red (while shorter wave lengths are blue), so we call the stretching of the light \"redshift\". The farther away a galaxy is from us, the redder its light appears (or in other words, it has a larger redshift). This gives us a natural way to measure distances to galaxies."
   ]
  },
  {
   "cell_type": "markdown",
   "metadata": {},
   "source": [
    "# *Excersize: Measuring Distances with Redshifts*"
   ]
  },
  {
   "cell_type": "markdown",
   "metadata": {},
   "source": [
    "Let's use an observed redshift to measure the distance to a galaxy. This galaxy is far away, and we can barely make it out in [a photo](https://www.legacysurvey.org/viewer/?ra=191.487780&dec=58.985188&zoom=13&layer=ls-dr9&mark=191.487780,58.985188) by eye (center of the yellow circle)"
   ]
  },
  {
   "cell_type": "markdown",
   "metadata": {},
   "source": [
    "![title](desihigh/images/desitarget.png)"
   ]
  },
  {
   "cell_type": "markdown",
   "metadata": {},
   "source": [
    "Up close, we can imagine that our galaxy looks something like the Triangulum Galaxy, which is easier to see in a photo"
   ]
  },
  {
   "cell_type": "markdown",
   "metadata": {},
   "source": [
    "![title](desihigh/images/Triangulum.jpg)"
   ]
  },
  {
   "cell_type": "markdown",
   "metadata": {},
   "source": [
    "We can break up the light from our galaxy into its full spectrum of wavelengths using a dispersing element (similar to a prism breaking up white light into a rainbow). This technique is called **spectroscopy**. If we make a graph of the flux (intensity) of light at each wavelength and zoom in on a region of interest, it will look something like this:"
   ]
  },
  {
   "cell_type": "markdown",
   "metadata": {},
   "source": [
    "![title](desihigh/images/example-spectrum.png)"
   ]
  },
  {
   "cell_type": "markdown",
   "metadata": {},
   "source": [
    "The sharp spike in the above spectrum is an atomic emission line that comes from ionized Oxygen atoms (OII) in our galaxy. Maybe you already know that the energy levels of atoms are **quantized**, with electrons habitating a series of shells with **discrete** energies.  When an electron transitions between two specific levels, light is always emitted at the same wavelength $\\lambda_\\text{emit}$ no matter what galaxy you're looking at. Due to the redshift of the light, we will observe the emission line occurring at a different wavelength (a redder color) $\\lambda_{\\text{obsv}}$. The redshift $z$ is calculated with the below formula:"
   ]
  },
  {
   "cell_type": "markdown",
   "metadata": {},
   "source": [
    "$$\n",
    "z = \\frac{\\lambda_{\\text{obsv}} - \\lambda_\\text{emit}}{\\lambda_\\text{emit}}\n",
    "$$"
   ]
  },
  {
   "cell_type": "markdown",
   "metadata": {},
   "source": [
    "From experiments here on Earth, we know that the true OII emission line $\\lambda_\\text{emit}$ occurs at a wavelength of 373 nanometers. Try using the above spectra to figure out the observed wavelength $\\lambda_{\\text{obsv}}$ of the light (in other words, at what wavelength is the OII peak located at?). Then, **enter that value into the below code and run it to calculate the redshift of the galaxy**."
   ]
  },
  {
   "cell_type": "code",
   "execution_count": null,
   "metadata": {},
   "outputs": [],
   "source": [
    "lambda_obsv = # fill in value here\n",
    "lambda_emit = 373 # nanometers\n",
    "\n",
    "redshift = (lambda_obsv - lambda_emit) / lambda_emit\n",
    "\n",
    "print(f'The redshift of the galaxy is {redshift:.3f}')"
   ]
  },
  {
   "cell_type": "markdown",
   "metadata": {},
   "source": [
    "Now, let's convert this redshift into a distance. To do this, we'll want the help of a cosmology model. We'll use a pre-existing python module to load in a cosmology model. Try running the below code to convert your measured redshift into a distance."
   ]
  },
  {
   "cell_type": "code",
   "execution_count": null,
   "metadata": {},
   "outputs": [],
   "source": [
    "#Let's load some tools that will help us learn about cosmology\n",
    "from astropy.cosmology import FlatLambdaCDM\n",
    "from astropy import units as u\n",
    "\n",
    "# Create a cosmology model for converting redshifts to distances\n",
    "cosmology_model = FlatLambdaCDM(Om0=.315, H0=67.4)\n",
    "\n",
    "# Convert our measured redshift to a distance measurement using the model\n",
    "distance = cosmology_model.comoving_distance(redshift).to(u.Mlyr)\n",
    "\n",
    "#Convert the units to lightyears\n",
    "print(f'The galaxy is {distance.value:.0f} billion light-years away from us')"
   ]
  },
  {
   "cell_type": "markdown",
   "metadata": {},
   "source": [
    "The [DESI value](https://www.legacysurvey.org/viewer/desi-spectrum/edr/targetid39633374838524834) for the distance to this galaxy using our cosmology model is 13988 billion light-years. How does your measured value compare?"
   ]
  },
  {
   "cell_type": "markdown",
   "metadata": {},
   "source": [
    "# *Using Spectroscopy to Study Dark Energy*"
   ]
  },
  {
   "cell_type": "markdown",
   "metadata": {},
   "source": [
    "You've now had some practice using spectroscopic data to identify emission lines, calculate redshifts, and calculate distances to galaxies given a cosmology model. By repeating a process similar to this with the aid of a spectroscopic instrument and for many galaxies, we can make a map of our universe. This map can in turn tell us about the validity of our cosmology model and about the nature of dark energy. DESI High welcomes you to explore a wide range of notebooks that will give you hands-on experience working with DESI data and teach you what we can learn about our universe from DESI. "
   ]
  },
  {
   "cell_type": "code",
   "execution_count": null,
   "metadata": {},
   "outputs": [],
   "source": []
  }
 ],
 "metadata": {
  "interpreter": {
   "hash": "05744e531a6b5accf174ab064947cca0fa700a25ff2828a9ac0fc01bbcf870af"
  },
  "kernelspec": {
   "display_name": "DESI main",
   "language": "python",
   "name": "desi-main"
  },
  "language_info": {
   "codemirror_mode": {
    "name": "ipython",
    "version": 3
   },
   "file_extension": ".py",
   "mimetype": "text/x-python",
   "name": "python",
   "nbconvert_exporter": "python",
   "pygments_lexer": "ipython3",
   "version": "3.10.14"
  },
  "latex_envs": {
   "LaTeX_envs_menu_present": true,
   "autoclose": false,
   "autocomplete": true,
   "bibliofile": "biblio.bib",
   "cite_by": "apalike",
   "current_citInitial": 1,
   "eqLabelWithNumbers": true,
   "eqNumInitial": 1,
   "hotkeys": {
    "equation": "Ctrl-E",
    "itemize": "Ctrl-I"
   },
   "labels_anchors": false,
   "latex_user_defs": false,
   "report_style_numbering": false,
   "user_envs_cfg": false
  },
  "nbTranslate": {
   "displayLangs": [
    "*"
   ],
   "hotkey": "alt-t",
   "langInMainMenu": true,
   "sourceLang": "en",
   "targetLang": "fr",
   "useGoogleTranslate": true
  }
 },
 "nbformat": 4,
 "nbformat_minor": 4
}
