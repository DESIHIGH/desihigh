{
 "cells": [
  {
   "cell_type": "code",
   "execution_count": 1,
   "metadata": {
    "lang": "en"
   },
   "outputs": [],
   "source": [
    "from IPython.display import IFrame"
   ]
  },
  {
   "cell_type": "code",
   "execution_count": 2,
   "metadata": {},
   "outputs": [],
   "source": [
    "%matplotlib inline"
   ]
  },
  {
   "cell_type": "markdown",
   "metadata": {
    "lang": "ne"
   },
   "source": [
    "# <*> हबल र DESI <\"> को उत्पत्ति"
   ]
  },
  {
   "cell_type": "markdown",
   "metadata": {
    "lang": "ne"
   },
   "source": [
    "वर्ष १ 29 २ us ले हामीलाई ओस्कार, पहिलो कार रेडियो र एडविन हबलको अप्रत्याशित अवलोकन ल्यायो जुन सबै आकाशगंगाहरू हामीबाट टाढा जाँदैछन्!"
   ]
  },
  {
   "cell_type": "markdown",
   "metadata": {},
   "source": [
    "![title](desihigh/images/edwin-hubble.jpg)"
   ]
  },
  {
   "cell_type": "markdown",
   "metadata": {
    "lang": "ne"
   },
   "source": [
    "आउनुहोस्, उहाँ हेरिरहनुभएको केही आकाशगंगाहरू, ट्राईulum्गुलम र ठूलो म्यागेलानिक क्लाउडमा द्रुत हेरौं।"
   ]
  },
  {
   "cell_type": "markdown",
   "metadata": {},
   "source": [
    "![title](desihigh/images/Triangulum.jpg)\n",
    "![title](desihigh/images/LMC.jpg)"
   ]
  },
  {
   "cell_type": "markdown",
   "metadata": {
    "lang": "ne"
   },
   "source": [
    "कुलमा, एडविनले हामीबाट २ g आकाशगंगाको दूरीहरूको अध्ययन गरे, र उनीहरूले अवलोकन गरेका 'रेडशिफ्ट्स'। त्यसको मतलब के हो?"
   ]
  },
  {
   "cell_type": "markdown",
   "metadata": {
    "lang": "ne"
   },
   "source": [
    "हुनसक्छ तपाईलाई पहिले नै थाहा छ कि हाइड्रोजनको उर्जा स्तर __क्वान्टाइज्ड__ छन्, इलेक्ट्रोनहरूले <<> असतत <__> उर्जाको साथ शेलहरूको श्रृंखला बनाउँदछन्। जब कुनै पनि दुई बिचको बीचमा इलेक्ट्रोन ट्रान्जिसन हुन्छ, प्रकाश \"Rydberg\" सुत्र द्वारा स्वच्छ तरंगदैर्ध्यको साथ उत्सर्जित हुन्छ:\n",
    "\n",
    "$$\n",
    "\\frac{1}{\\lambda_{\\rm vac}} = 1.096 \\times 10^{7} \\left ( \\frac{1}{n^2} - \\frac{1}{m^2} \\right ) \n",
    "$$\n",
    "\n",
    "जहाँ $n$ र $m$ ($[0, 1, 2, ... \\infty]$ को कुनै एक) ले दुई ऊर्जा स्तर लेबल।"
   ]
  },
  {
   "cell_type": "code",
   "execution_count": 4,
   "metadata": {},
   "outputs": [],
   "source": [
    "# First, let's import some useful packages:\n",
    "import os\n",
    "import astropy\n",
    "import pylab           as     pl\n",
    "import pandas          as     pd\n",
    "import numpy           as     np\n",
    "\n",
    "\n",
    "from   matplotlib      import pyplot as plt\n",
    "from   scipy           import stats\n",
    "from   IPython.display import Image\n",
    "from   tools.wave2rgb  import wavelength_to_rgb\n",
    "from   pkg_resources   import resource_filename"
   ]
  },
  {
   "cell_type": "code",
   "execution_count": 5,
   "metadata": {},
   "outputs": [],
   "source": [
    "def Rydberg(n, m):\n",
    "    # Vacuum wavelengths [nanometres]\n",
    "    result = 1.096e-2 * (1. / n / n - 1. / m / m)\n",
    "    return 1. / result"
   ]
  },
  {
   "cell_type": "markdown",
   "metadata": {
    "lang": "ne"
   },
   "source": [
    "हाइड्रोजन उत्सर्जित गर्न सक्ने प्रकाशको तरंगदैर्ध्यहरु लाई कसरत गरौं:"
   ]
  },
  {
   "cell_type": "code",
   "execution_count": 6,
   "metadata": {},
   "outputs": [
    {
     "name": "stdout",
     "output_type": "stream",
     "text": [
      "n \t m \t Wavelength [nm]\n",
      "1 \t 2 \t 121.655\n",
      "1 \t 3 \t 102.646\n",
      "1 \t 4 \t 97.324\n",
      "1 \t 5 \t 95.043\n",
      "1 \t 6 \t 93.848\n",
      "1 \t 7 \t 93.142\n",
      "1 \t 8 \t 92.689\n",
      "1 \t 9 \t 92.381\n",
      "2 \t 3 \t 656.934\n",
      "2 \t 4 \t 486.618\n",
      "2 \t 5 \t 434.480\n",
      "2 \t 6 \t 410.584\n",
      "2 \t 7 \t 397.405\n",
      "2 \t 8 \t 389.294\n",
      "2 \t 9 \t 383.923\n",
      "3 \t 4 \t 1876.955\n",
      "3 \t 5 \t 1283.075\n",
      "3 \t 6 \t 1094.891\n",
      "3 \t 7 \t 1005.931\n",
      "3 \t 8 \t 955.541\n",
      "3 \t 9 \t 923.814\n",
      "4 \t 5 \t 4055.150\n",
      "4 \t 6 \t 2627.737\n",
      "4 \t 7 \t 2167.662\n",
      "4 \t 8 \t 1946.472\n",
      "4 \t 9 \t 1819.203\n",
      "5 \t 6 \t 7465.163\n",
      "5 \t 7 \t 4657.086\n",
      "5 \t 8 \t 3743.215\n",
      "5 \t 9 \t 3299.335\n",
      "6 \t 7 \t 12380.685\n",
      "6 \t 8 \t 7507.821\n",
      "6 \t 9 \t 5912.409\n",
      "7 \t 8 \t 19075.426\n",
      "7 \t 9 \t 11316.720\n",
      "8 \t 9 \t 27823.100\n"
     ]
    }
   ],
   "source": [
    "waves = []\n",
    "\n",
    "print('n \\t m \\t Wavelength [nm]')\n",
    "\n",
    "for n in np.arange(1, 10, 1):\n",
    "    for m in np.arange(n+1, 10, 1):\n",
    "        wave = Rydberg(n, m)        \n",
    "        waves.append(wave)\n",
    "        \n",
    "        print('{:d} \\t {:d} \\t {:.3f}'.format(n, m, wave))"
   ]
  },
  {
   "cell_type": "markdown",
   "metadata": {
    "lang": "ne"
   },
   "source": [
    "अब तरंगदैर्ध्यहरु बनाउने र यी लाइनहरु को रंग देख्न गरौं। यदि हामीले उत्सर्जक हाइड्रोजन परमाणुमा हेर्छौं भने, तपाईं यसलाई देख्नुहुने थियो:"
   ]
  },
  {
   "cell_type": "code",
   "execution_count": 7,
   "metadata": {},
   "outputs": [
    {
     "data": {
      "text/plain": [
       "(380.0, 780.0)"
      ]
     },
     "execution_count": 7,
     "metadata": {},
     "output_type": "execute_result"
    },
    {
     "data": {
      "image/png": "[encoded data removed]",
      "text/plain": [
       "<Figure size 432x288 with 1 Axes>"
      ]
     },
     "metadata": {
      "needs_background": "light"
     },
     "output_type": "display_data"
    }
   ],
   "source": [
    "for wave in waves:\n",
    "  # color = [r, g, b]\n",
    "  color = wavelength_to_rgb(wave)       \n",
    "  pl.axvline(x=wave, c=color)\n",
    "\n",
    "pl.xlabel('Vacuum wavelength [nanometers]')\n",
    "pl.xlim(380., 780.)"
   ]
  },
  {
   "cell_type": "markdown",
   "metadata": {
    "lang": "ne"
   },
   "source": [
    "यदि हाइड्रोजन चलिरहेको ग्यालक्सीमा अवस्थित छ भने, हामी रेखाहरू डप्लर सारिएको देख्छौं। हामी यसलाई ग्यालक्सीको \"रेडशिफ्ट\" भन्दछौं, अक्सर $z$ (https://en.wikedia.org/wiki/Redshift) को रूपमा दर्शाउँछ। मानौं कि ग्यालेक्सी १% प्रकाशको गति (v = ०.१ * c) मा चलिरहेको छ, हामी निम्न समीकरणको साथ रेडशिफ्ट गणना गर्न सक्छौं:\n",
    "$$\n",
    "1 + z = \\sqrt{\\frac{1 + v/c}{1 + v/c}}\n",
    "$$"
   ]
  },
  {
   "cell_type": "code",
   "execution_count": 8,
   "metadata": {},
   "outputs": [],
   "source": [
    "def redshift(v):\n",
    "    # v [speed of light].\n",
    "    result = (1. + v) / (1. - v) \n",
    "    result = np.sqrt(result) - 1.\n",
    "    \n",
    "    return  result"
   ]
  },
  {
   "cell_type": "code",
   "execution_count": 9,
   "metadata": {},
   "outputs": [
    {
     "data": {
      "text/plain": [
       "(380.0, 780.0)"
      ]
     },
     "execution_count": 9,
     "metadata": {},
     "output_type": "execute_result"
    },
    {
     "data": {
      "image/png": "[encoded data removed]",
      "text/plain": [
       "<Figure size 432x288 with 1 Axes>"
      ]
     },
     "metadata": {
      "needs_background": "light"
     },
     "output_type": "display_data"
    }
   ],
   "source": [
    "zz = redshift(0.01) \n",
    "\n",
    "for restwave in waves:\n",
    "  obswave = (1. + zz) * restwave     \n",
    "\n",
    "  color   = wavelength_to_rgb(restwave)       \n",
    "  pl.axvline(x=restwave, c=color, alpha=0.25)\n",
    "\n",
    "  color   = wavelength_to_rgb(obswave)       \n",
    "  pl.axvline(x=obswave, c=color)\n",
    "\n",
    "pl.xlabel('Vacuum wavelength [nanometers]')\n",
    "pl.xlim(380., 780.)"
   ]
  },
  {
   "cell_type": "markdown",
   "metadata": {
    "lang": "ne"
   },
   "source": [
    "यहाँ तपाईले मूल रेखा (बेहोशी) र रेखा सारिनुभयो यदि उत्सर्जन हाइड्रोजनको साथ आकाशगंगा चलिरहेको छ भने। https://en.wikedia.org/wiki/Doppler_effect तपाइँलाई सबै विवरणहरू बताउनेछ।"
   ]
  },
  {
   "cell_type": "markdown",
   "metadata": {
    "lang": "ne"
   },
   "source": [
    "हबललाई हाइड्रोजेनको लाइनहरू थाहा थियो, र अन्य धेरै तत्त्वहरूका लागि। माथी उल्टाउँदै ऊ धेरै आकाशगंगाहरूको लागि वेग गणना गर्न सक्षम भयो। उनले पत्ता लगाए कि त्यहाँ कति टाढा छन् (आकाशगंगामा केहि विशेष ताराहरू कत्ति उज्यालोबाट - https://en.wikedia.org/wiki/Cheheid_variable) र तिनीहरू कती चाँडो अघि बढ्दै थिए (माथि उल्लेख गरे अनुसार, उनीहरूको रेडशिफ्टबाट):"
   ]
  },
  {
   "cell_type": "code",
   "execution_count": 12,
   "metadata": {},
   "outputs": [
    {
     "ename": "ModuleNotFoundError",
     "evalue": "No module named 'desihigh'",
     "output_type": "error",
     "traceback": [
      "\u001b[0;31m---------------------------------------------------------------------------\u001b[0m",
      "\u001b[0;31mKeyError\u001b[0m                                  Traceback (most recent call last)",
      "\u001b[0;32m~/opt/miniconda3/envs/desihigh/lib/python3.7/site-packages/pkg_resources/__init__.py\u001b[0m in \u001b[0;36mget_provider\u001b[0;34m(moduleOrReq)\u001b[0m\n\u001b[1;32m    343\u001b[0m     \u001b[0;32mtry\u001b[0m\u001b[0;34m:\u001b[0m\u001b[0;34m\u001b[0m\u001b[0;34m\u001b[0m\u001b[0m\n\u001b[0;32m--> 344\u001b[0;31m         \u001b[0mmodule\u001b[0m \u001b[0;34m=\u001b[0m \u001b[0msys\u001b[0m\u001b[0;34m.\u001b[0m\u001b[0mmodules\u001b[0m\u001b[0;34m[\u001b[0m\u001b[0mmoduleOrReq\u001b[0m\u001b[0;34m]\u001b[0m\u001b[0;34m\u001b[0m\u001b[0;34m\u001b[0m\u001b[0m\n\u001b[0m\u001b[1;32m    345\u001b[0m     \u001b[0;32mexcept\u001b[0m \u001b[0mKeyError\u001b[0m\u001b[0;34m:\u001b[0m\u001b[0;34m\u001b[0m\u001b[0;34m\u001b[0m\u001b[0m\n",
      "\u001b[0;31mKeyError\u001b[0m: 'desihigh'",
      "\nDuring handling of the above exception, another exception occurred:\n",
      "\u001b[0;31mModuleNotFoundError\u001b[0m                       Traceback (most recent call last)",
      "\u001b[0;32m<ipython-input-12-78d2a19cd676>\u001b[0m in \u001b[0;36m<module>\u001b[0;34m\u001b[0m\n\u001b[0;32m----> 1\u001b[0;31m \u001b[0mhub\u001b[0m \u001b[0;34m=\u001b[0m \u001b[0mresource_filename\u001b[0m\u001b[0;34m(\u001b[0m\u001b[0;34m'desihigh'\u001b[0m\u001b[0;34m,\u001b[0m\u001b[0;34m'dat/hubble.dat'\u001b[0m\u001b[0;34m)\u001b[0m\u001b[0;34m\u001b[0m\u001b[0;34m\u001b[0m\u001b[0m\n\u001b[0m",
      "\u001b[0;32m~/opt/miniconda3/envs/desihigh/lib/python3.7/site-packages/pkg_resources/__init__.py\u001b[0m in \u001b[0;36mresource_filename\u001b[0;34m(self, package_or_requirement, resource_name)\u001b[0m\n\u001b[1;32m   1128\u001b[0m     \u001b[0;32mdef\u001b[0m \u001b[0mresource_filename\u001b[0m\u001b[0;34m(\u001b[0m\u001b[0mself\u001b[0m\u001b[0;34m,\u001b[0m \u001b[0mpackage_or_requirement\u001b[0m\u001b[0;34m,\u001b[0m \u001b[0mresource_name\u001b[0m\u001b[0;34m)\u001b[0m\u001b[0;34m:\u001b[0m\u001b[0;34m\u001b[0m\u001b[0;34m\u001b[0m\u001b[0m\n\u001b[1;32m   1129\u001b[0m         \u001b[0;34m\"\"\"Return a true filesystem path for specified resource\"\"\"\u001b[0m\u001b[0;34m\u001b[0m\u001b[0;34m\u001b[0m\u001b[0m\n\u001b[0;32m-> 1130\u001b[0;31m         return get_provider(package_or_requirement).get_resource_filename(\n\u001b[0m\u001b[1;32m   1131\u001b[0m             \u001b[0mself\u001b[0m\u001b[0;34m,\u001b[0m \u001b[0mresource_name\u001b[0m\u001b[0;34m\u001b[0m\u001b[0;34m\u001b[0m\u001b[0m\n\u001b[1;32m   1132\u001b[0m         )\n",
      "\u001b[0;32m~/opt/miniconda3/envs/desihigh/lib/python3.7/site-packages/pkg_resources/__init__.py\u001b[0m in \u001b[0;36mget_provider\u001b[0;34m(moduleOrReq)\u001b[0m\n\u001b[1;32m    344\u001b[0m         \u001b[0mmodule\u001b[0m \u001b[0;34m=\u001b[0m \u001b[0msys\u001b[0m\u001b[0;34m.\u001b[0m\u001b[0mmodules\u001b[0m\u001b[0;34m[\u001b[0m\u001b[0mmoduleOrReq\u001b[0m\u001b[0;34m]\u001b[0m\u001b[0;34m\u001b[0m\u001b[0;34m\u001b[0m\u001b[0m\n\u001b[1;32m    345\u001b[0m     \u001b[0;32mexcept\u001b[0m \u001b[0mKeyError\u001b[0m\u001b[0;34m:\u001b[0m\u001b[0;34m\u001b[0m\u001b[0;34m\u001b[0m\u001b[0m\n\u001b[0;32m--> 346\u001b[0;31m         \u001b[0m__import__\u001b[0m\u001b[0;34m(\u001b[0m\u001b[0mmoduleOrReq\u001b[0m\u001b[0;34m)\u001b[0m\u001b[0;34m\u001b[0m\u001b[0;34m\u001b[0m\u001b[0m\n\u001b[0m\u001b[1;32m    347\u001b[0m         \u001b[0mmodule\u001b[0m \u001b[0;34m=\u001b[0m \u001b[0msys\u001b[0m\u001b[0;34m.\u001b[0m\u001b[0mmodules\u001b[0m\u001b[0;34m[\u001b[0m\u001b[0mmoduleOrReq\u001b[0m\u001b[0;34m]\u001b[0m\u001b[0;34m\u001b[0m\u001b[0;34m\u001b[0m\u001b[0m\n\u001b[1;32m    348\u001b[0m     \u001b[0mloader\u001b[0m \u001b[0;34m=\u001b[0m \u001b[0mgetattr\u001b[0m\u001b[0;34m(\u001b[0m\u001b[0mmodule\u001b[0m\u001b[0;34m,\u001b[0m \u001b[0;34m'__loader__'\u001b[0m\u001b[0;34m,\u001b[0m \u001b[0;32mNone\u001b[0m\u001b[0;34m)\u001b[0m\u001b[0;34m\u001b[0m\u001b[0;34m\u001b[0m\u001b[0m\n",
      "\u001b[0;31mModuleNotFoundError\u001b[0m: No module named 'desihigh'"
     ]
    }
   ],
   "source": [
    "hub = resource_filename('desihigh','dat/hubble.dat')"
   ]
  },
  {
   "cell_type": "code",
   "execution_count": 13,
   "metadata": {},
   "outputs": [
    {
     "ename": "NameError",
     "evalue": "name 'hub' is not defined",
     "output_type": "error",
     "traceback": [
      "\u001b[0;31m---------------------------------------------------------------------------\u001b[0m",
      "\u001b[0;31mNameError\u001b[0m                                 Traceback (most recent call last)",
      "\u001b[0;32m<ipython-input-13-18eac06279cb>\u001b[0m in \u001b[0;36m<module>\u001b[0;34m\u001b[0m\n\u001b[0;32m----> 1\u001b[0;31m \u001b[0mdat\u001b[0m \u001b[0;34m=\u001b[0m \u001b[0mpd\u001b[0m\u001b[0;34m.\u001b[0m\u001b[0mread_csv\u001b[0m\u001b[0;34m(\u001b[0m\u001b[0mhub\u001b[0m\u001b[0;34m,\u001b[0m \u001b[0msep\u001b[0m\u001b[0;34m=\u001b[0m\u001b[0;34m'\\s+'\u001b[0m\u001b[0;34m,\u001b[0m \u001b[0mcomment\u001b[0m\u001b[0;34m=\u001b[0m\u001b[0;34m'#'\u001b[0m\u001b[0;34m,\u001b[0m \u001b[0mnames\u001b[0m\u001b[0;34m=\u001b[0m\u001b[0;34m[\u001b[0m\u001b[0;34m'Galaxy name'\u001b[0m\u001b[0;34m,\u001b[0m \u001b[0;34m'Distance [Mpc]'\u001b[0m\u001b[0;34m,\u001b[0m \u001b[0;34m'Velocity [km/s]'\u001b[0m\u001b[0;34m]\u001b[0m\u001b[0;34m)\u001b[0m\u001b[0;34m\u001b[0m\u001b[0;34m\u001b[0m\u001b[0m\n\u001b[0m\u001b[1;32m      2\u001b[0m \u001b[0mdat\u001b[0m\u001b[0;34m\u001b[0m\u001b[0;34m\u001b[0m\u001b[0m\n",
      "\u001b[0;31mNameError\u001b[0m: name 'hub' is not defined"
     ]
    }
   ],
   "source": [
    "dat = pd.read_csv(hub, sep='\\s+', comment='#', names=['Galaxy name', 'Distance [Mpc]', 'Velocity [km/s]'])\n",
    "dat"
   ]
  },
  {
   "cell_type": "markdown",
   "metadata": {
    "lang": "ne"
   },
   "source": [
    "तिनीहरूलाई षड्यन्त्र गरौं।"
   ]
  },
  {
   "cell_type": "code",
   "execution_count": 11,
   "metadata": {},
   "outputs": [],
   "source": [
    "fig = plt.figure(figsize=(10, 7.5))\n",
    "ax  = fig.add_subplot(1, 1, 1)\n",
    "plt.close()"
   ]
  },
  {
   "cell_type": "code",
   "execution_count": 12,
   "metadata": {},
   "outputs": [],
   "source": [
    "label_style = {'fontname': 'Georgia', 'fontsize': 16} "
   ]
  },
  {
   "cell_type": "code",
   "execution_count": 13,
   "metadata": {},
   "outputs": [
    {
     "data": {
      "text/plain": [
       "<Figure size 432x288 with 0 Axes>"
      ]
     },
     "metadata": {},
     "output_type": "display_data"
    }
   ],
   "source": [
    "ax.plot(dat['Distance [Mpc]'], dat['Velocity [km/s]'], '-', c='k', marker='*', lw=0)\n",
    "\n",
    "ax.set_xlabel('Distance from us [Megaparsecs]', **label_style)\n",
    "ax.set_ylabel('Recession velocity [km/s]', **label_style)\n",
    "\n",
    "plt.tight_layout()"
   ]
  },
  {
   "cell_type": "code",
   "execution_count": 14,
   "metadata": {},
   "outputs": [
    {
     "name": "stderr",
     "output_type": "stream",
     "text": [
      "findfont: Font family ['Georgia'] not found. Falling back to DejaVu Sans.\n"
     ]
    },
    {
     "data": {
      "image/png": "[encoded data removed]",
      "text/plain": [
       "<Figure size 720x540 with 1 Axes>"
      ]
     },
     "execution_count": 14,
     "metadata": {},
     "output_type": "execute_result"
    }
   ],
   "source": [
    "fig"
   ]
  },
  {
   "cell_type": "markdown",
   "metadata": {
    "lang": "ne"
   },
   "source": [
    "एडविनले एक स्पष्ट प्रवृत्ति देख्यो, तर नापहरू राम्रै हल्लाए जस्तो देखिन्थ्यो। दुई र साँचो सम्बन्धमा हाम्रो उत्तम अनुमान लगाऔं। हामी स्कीपी तथ्या at्क प्याकेज प्रयोग गरी एक रैखिक सम्बन्ध (रिग्रसन) हेर्नेछौं:"
   ]
  },
  {
   "cell_type": "code",
   "execution_count": 15,
   "metadata": {},
   "outputs": [],
   "source": [
    "slope, intercept, r_value, p_value, std_err = stats.linregress(dat['Distance [Mpc]'],dat['Velocity [km/s]'])"
   ]
  },
  {
   "cell_type": "code",
   "execution_count": 16,
   "metadata": {},
   "outputs": [
    {
     "name": "stdout",
     "output_type": "stream",
     "text": [
      "The gradient to this trend is known as the Hubble constant:  454.158 [km/s/Mpc]\n"
     ]
    }
   ],
   "source": [
    "print('The gradient to this trend is known as the Hubble constant:  {:.3f} [km/s/Mpc]'.format(slope))"
   ]
  },
  {
   "cell_type": "markdown",
   "metadata": {
    "lang": "ne"
   },
   "source": [
    "हेरौं त्यो कस्तो देखिन्छ।"
   ]
  },
  {
   "cell_type": "code",
   "execution_count": 17,
   "metadata": {},
   "outputs": [
    {
     "data": {
      "text/plain": [
       "(0.0, 2.5)"
      ]
     },
     "execution_count": 17,
     "metadata": {},
     "output_type": "execute_result"
    }
   ],
   "source": [
    "distances  = np.linspace(-0.5, 2.5, 10)\n",
    "velocities = slope * distances\n",
    "\n",
    "ax.plot(distances, velocities, lw=0.25, c='k')\n",
    "ax.set_xlim(0.0, 2.5)"
   ]
  },
  {
   "cell_type": "code",
   "execution_count": 18,
   "metadata": {},
   "outputs": [
    {
     "data": {
      "image/png": "[encoded data removed]",
      "text/plain": [
       "<Figure size 720x540 with 1 Axes>"
      ]
     },
     "execution_count": 18,
     "metadata": {},
     "output_type": "execute_result"
    }
   ],
   "source": [
    "fig"
   ]
  },
  {
   "cell_type": "markdown",
   "metadata": {
    "lang": "ne"
   },
   "source": [
    "धेरै राम्रो फिट देखिन्छ!"
   ]
  },
  {
   "cell_type": "markdown",
   "metadata": {
    "lang": "ne"
   },
   "source": [
    "अब तपाईको पालो आयो, के तपाई हबल कस्ट्यान्टको यो मापमा त्रुटिको राम्रो अनुमान लगाउन सक्नुहुन्छ? हामी कत्तिको ठीकसँग हामी कसरी निश्चित दूरीमा ग्यालेक्सीको मन्दीको पूर्वानुमान गर्न सक्छौं, अर्थात् यो कत्तिको चाँडो वा ढिलो कसरी गतिशील हुन सक्छ?"
   ]
  },
  {
   "cell_type": "markdown",
   "metadata": {
    "lang": "ne"
   },
   "source": [
    "त्यसोभए अन्तमा, हरेक आकाशगंगा हामीबाट टाढा जाँदैछ। हामी यसलाई सबै आकाशगंगाहरूको लागि सत्य ठान्छौं - हामी केन्द्रमा छैनौं वा कुनै पनि हिसाबले विशेष छैनौं। हरेक आकाशगंगा एक अर्काबाट टाढा जाँदै छ। ब्रह्माण्डको विस्तार भइरहेको तथ्यले १ 29 २ in मा धेरैलाई चकित तुल्यायो, तर त्योभन्दा पनि ठूलो आश्चर्य भनेको स्टोरमा थियो।"
   ]
  },
  {
   "cell_type": "markdown",
   "metadata": {
    "lang": "ne"
   },
   "source": [
    "# *गाढा ऊर्जा*"
   ]
  },
  {
   "cell_type": "markdown",
   "metadata": {
    "lang": "ne"
   },
   "source": [
    "सन् १ 1998 1998। मा संसार सदाको लागि बदलिन्थ्यो। ल्यारी पृष्ठ र सेर्गेई ब्रिनले गुगलको स्थापना गर्‍यो, अमेरिकी एकता नोड र रूसी जर्या मोड्युललाई एकै ठाउँमा ल्याएर [अन्तर्राष्ट्रिय अन्तरिक्ष स्टेशन] (https://en.wikedia.org/wiki/International _अन्तरिक्ष_ स्टेशन ), र लरेन्स बर्कले ल्याबको\n",
    "धेरै शाऊल पर्लमुटर, ब्रायन स्मिड र एडम रीसले अकल्पनीय रूपमा _अँध्यारो उर्जा_ अवस्थित भएको पुष्टि गरे। यहाँ शावलले केहि युवा बर्कले अनुसन्धानकर्ताहरूलाई प्रभाव पार्दै छन।"
   ]
  },
  {
   "cell_type": "markdown",
   "metadata": {},
   "source": [
    "![title](desihigh/images/perlmutter.png)"
   ]
  },
  {
   "cell_type": "markdown",
   "metadata": {
    "lang": "ne"
   },
   "source": [
    "त्यसोभए सबैले के हेरिरहेका थिए? डाटा ब्रेकडाउन गरौं।"
   ]
  },
  {
   "cell_type": "markdown",
   "metadata": {
    "lang": "ne"
   },
   "source": [
    "शाऊल र उनको टोलीले redshift ($z$) र धेरै परिमाण Ia सुपरनोवा (https://en.wikedia.org/wiki/Type _Ia_ सुपरनोवा) को लागी प्रभावकारी परिमाण मापन गरे।"
   ]
  },
  {
   "cell_type": "code",
   "execution_count": 19,
   "metadata": {},
   "outputs": [],
   "source": [
    "perl    = resource_filename('desihigh', 'dat/perlmutter.txt')"
   ]
  },
  {
   "cell_type": "code",
   "execution_count": 20,
   "metadata": {},
   "outputs": [
    {
     "data": {
      "text/html": [
       "<div>\n",
       "<style scoped>\n",
       "    .dataframe tbody tr th:only-of-type {\n",
       "        vertical-align: middle;\n",
       "    }\n",
       "\n",
       "    .dataframe tbody tr th {\n",
       "        vertical-align: top;\n",
       "    }\n",
       "\n",
       "    .dataframe thead th {\n",
       "        text-align: right;\n",
       "    }\n",
       "</style>\n",
       "<table border=\"1\" class=\"dataframe\">\n",
       "  <thead>\n",
       "    <tr style=\"text-align: right;\">\n",
       "      <th></th>\n",
       "      <th>z</th>\n",
       "      <th>Effective magnitude</th>\n",
       "    </tr>\n",
       "  </thead>\n",
       "  <tbody>\n",
       "    <tr>\n",
       "      <th>0</th>\n",
       "      <td>0.458</td>\n",
       "      <td>23.11</td>\n",
       "    </tr>\n",
       "    <tr>\n",
       "      <th>1</th>\n",
       "      <td>0.354</td>\n",
       "      <td>22.38</td>\n",
       "    </tr>\n",
       "    <tr>\n",
       "      <th>2</th>\n",
       "      <td>0.425</td>\n",
       "      <td>22.13</td>\n",
       "    </tr>\n",
       "    <tr>\n",
       "      <th>3</th>\n",
       "      <td>0.374</td>\n",
       "      <td>21.72</td>\n",
       "    </tr>\n",
       "    <tr>\n",
       "      <th>4</th>\n",
       "      <td>0.420</td>\n",
       "      <td>22.55</td>\n",
       "    </tr>\n",
       "    <tr>\n",
       "      <th>5</th>\n",
       "      <td>0.372</td>\n",
       "      <td>22.26</td>\n",
       "    </tr>\n",
       "    <tr>\n",
       "      <th>6</th>\n",
       "      <td>0.378</td>\n",
       "      <td>22.58</td>\n",
       "    </tr>\n",
       "    <tr>\n",
       "      <th>7</th>\n",
       "      <td>0.453</td>\n",
       "      <td>23.17</td>\n",
       "    </tr>\n",
       "    <tr>\n",
       "      <th>8</th>\n",
       "      <td>0.465</td>\n",
       "      <td>23.33</td>\n",
       "    </tr>\n",
       "    <tr>\n",
       "      <th>9</th>\n",
       "      <td>0.498</td>\n",
       "      <td>23.71</td>\n",
       "    </tr>\n",
       "  </tbody>\n",
       "</table>\n",
       "</div>"
      ],
      "text/plain": [
       "       z  Effective magnitude\n",
       "0  0.458                23.11\n",
       "1  0.354                22.38\n",
       "2  0.425                22.13\n",
       "3  0.374                21.72\n",
       "4  0.420                22.55\n",
       "5  0.372                22.26\n",
       "6  0.378                22.58\n",
       "7  0.453                23.17\n",
       "8  0.465                23.33\n",
       "9  0.498                23.71"
      ]
     },
     "execution_count": 20,
     "metadata": {},
     "output_type": "execute_result"
    }
   ],
   "source": [
    "dat     = pd.read_csv(perl, names=['z', 'Effective magnitude'], comment='#', sep='\\s+')\n",
    "toprint = dat[:10]\n",
    "toprint"
   ]
  },
  {
   "cell_type": "markdown",
   "metadata": {
    "lang": "ne"
   },
   "source": [
    "एउटा प्लटले यसलाई अझ धेरै स्पष्ट रूपमा देखाउँदछ:"
   ]
  },
  {
   "cell_type": "code",
   "execution_count": 21,
   "metadata": {},
   "outputs": [
    {
     "data": {
      "text/plain": [
       "Text(0, 0.5, 'Effective magnitude')"
      ]
     },
     "execution_count": 21,
     "metadata": {},
     "output_type": "execute_result"
    },
    {
     "data": {
      "image/png": "[encoded data removed]",
      "text/plain": [
       "<Figure size 432x288 with 1 Axes>"
      ]
     },
     "metadata": {
      "needs_background": "light"
     },
     "output_type": "display_data"
    }
   ],
   "source": [
    "pl.plot(dat['z'], dat['Effective magnitude'], marker='.', lw=0.0)\n",
    "\n",
    "pl.xlabel('z')\n",
    "pl.ylabel('Effective magnitude')"
   ]
  },
  {
   "cell_type": "markdown",
   "metadata": {
    "lang": "ne"
   },
   "source": [
    "शाऊलसँग विश्वास गर्ने राम्रो कारण छ (वास्तवमै, उनले उनीहरूलाई थोरै पहिले चिमोट लगाउनु पर्ने थियो) कि प्रत्येक [प्रकार Ia सुपरनोवा] (https://en.wikedia.org/wiki/Type _Ia_ सुपरनोवा) यहाँ देखाइएको छ। आन्तरिक रूपमा उस्तै उज्ज्वल थियो, तर उच्च रेडशिफ्टमा कम रेडशिफ्टमा तुलनात्मक रूपमा बेहोश देखिन्छ, किनकि तिनीहरू केवल टाढा थिए। यसले देखाइएको प्रवृत्तिलाई वर्णन गर्दछ, 'प्रभावी परिमाण' अजीब तरीका हो जसमा खगोलविद्हरूले सामान्यतया केहि उज्यालो देखिन्छ भनेर अभिव्यक्त गर्छन्।"
   ]
  },
  {
   "cell_type": "markdown",
   "metadata": {
    "lang": "ne"
   },
   "source": [
    "यस मापन को बारे उपयोगी चीज यो हो कि एक सुपरनोभ वा आकाशगंगा दिइएको रेडशिफ्टको लागि कति टाढा छ केही प्यारामिटरहरूमा निर्भर गर्दछ, जसमध्ये एउटा ब्रह्माण्डमा कति डार्क एनर्जी हुन सक्छ। लगभग सबैले यो डेटा त्यहाँ शामेलले बनाएको _हो_ _अँध्यारो उर्जा_ छैन भनेर प्रमाणित गरिसकेका थिए, तर केहीले अन्यथा अनुमान गरे।\n",
    "\n",
    "जब हबलले विस्तार पत्ता लगायो, एक प्राकृतिक परिणाम भनेको एक घन मिटर भित्रमा रहेको (बाकी द्रव्यमान) उर्जाको मात्रा समयको साथ पातलो हुन्छ। गाढा उर्जा विशेष हुनेछ, किनकि प्रति घन मिटर उर्जाको मात्रा समयको साथ स्थिर रहन्छ र सुझाव दिन्छ कि [क्वान्टम मेकानिक्स] (https://en.wikedia.org/wiki/Quantum_mechanics) को डरलाग्दो प्रभावले निम्त्याउने छ। आकाशगंगा अलग गर्न।"
   ]
  },
  {
   "cell_type": "markdown",
   "metadata": {
    "lang": "ne"
   },
   "source": [
    "त्यसोभए शाऊलको डेटा प्रयोग गरौं ब्रह्माण्डमा डार्क एनर्जी कती छ भनेर पत्ता लगाउन। सर्वप्रथम, हामीलाई डार्क एनर्जीको केही रकम दिइएको रेडशिफ्टमा सुपरनोभाको (प्रकाश) दूरीको मोडेल चाहिन्छ। हामी $\\Omega_\\Lambda$ लाई डार्क एनर्जी जस्ता व्यवहार गर्ने सबै चीजहरूको _अंश_ संकेत गर्न प्रयोग गर्दछौं।"
   ]
  },
  {
   "cell_type": "code",
   "execution_count": 22,
   "metadata": {},
   "outputs": [],
   "source": [
    "from astropy.cosmology import FlatLambdaCDM\n",
    "\n",
    "def lumdist(z, olambda):\n",
    "  cosmo = FlatLambdaCDM(H0=70, Om0=1. - olambda, Tcmb0=2.725)\n",
    "    \n",
    "  return  cosmo.luminosity_distance(z)   "
   ]
  },
  {
   "cell_type": "markdown",
   "metadata": {
    "lang": "ne"
   },
   "source": [
    "हामीले यस दूरीलाई रूपान्तरण गर्न आवश्यक छ खगोलविद्हरूले कसरी चमक मापन गर्दछन्:"
   ]
  },
  {
   "cell_type": "code",
   "execution_count": 23,
   "metadata": {},
   "outputs": [],
   "source": [
    "def effmag(z, olambda, MB):\n",
    "  DL = lumdist(z, olambda)   \n",
    "\n",
    "  return MB + 5. * np.log10(DL.value)    "
   ]
  },
  {
   "cell_type": "code",
   "execution_count": 24,
   "metadata": {},
   "outputs": [
    {
     "data": {
      "text/plain": [
       "<matplotlib.legend.Legend at 0x7f0e2cfaded0>"
      ]
     },
     "execution_count": 24,
     "metadata": {},
     "output_type": "execute_result"
    },
    {
     "data": {
      "image/png": "[encoded data removed]",
      "text/plain": [
       "<Figure size 432x288 with 1 Axes>"
      ]
     },
     "metadata": {
      "needs_background": "light"
     },
     "output_type": "display_data"
    }
   ],
   "source": [
    "zs = np.arange(0.01, 0.85, 0.01)\n",
    "\n",
    "pl.plot(dat['z'], dat['Effective magnitude'], marker='.', lw=0.0)\n",
    "\n",
    "pl.plot(zs, effmag(zs, 0.0, 6.), c='k', label='No Dark Energy', alpha=0.5)\n",
    "pl.plot(zs, effmag(zs, 0.5, 6.), c='k', label='Dark Energy!')\n",
    "\n",
    "pl.xlabel('z')\n",
    "pl.ylabel('Effective magnitude')\n",
    "\n",
    "pl.legend(loc=4, frameon=False)"
   ]
  },
  {
   "cell_type": "markdown",
   "metadata": {
    "lang": "ne"
   },
   "source": [
    "आँखा द्वारा पनि, डाटा केहि डार्क उर्जा मनपर्दछ। तर यसमा ठूलो रकम छैन। डेटा ठीक मन पर्छ के आंकलन गरौं। यो गर्नका लागि, हामी मान्दछौं कि प्रत्येक बिन्दु र रेखा बिचको दूरी न्यून पार्नु उत्तम सिद्धान्त हो जुन यो सिद्धान्तले डेटामा कति राम्रो फिट गर्दछ (https://en.wikedia.org/wiki/Least_squares हेर्नुहोस्)। डार्क उर्जाको अंशसँगै, हामी जान्दैनौं कि प्रत्येक सुपरनोवा कत्तिको उज्ज्वल छ त्यसैले हामी एकै साथ फिट हुनेछौं।"
   ]
  },
  {
   "cell_type": "code",
   "execution_count": 25,
   "metadata": {},
   "outputs": [],
   "source": [
    "from scipy.optimize import minimize"
   ]
  },
  {
   "cell_type": "code",
   "execution_count": 26,
   "metadata": {},
   "outputs": [],
   "source": [
    "def chi2(x):\n",
    "    olambda = x[0]\n",
    "    MB      = x[1] \n",
    "    model = np.zeros(len(dat['z']))\n",
    "\n",
    "    for i, z in enumerate(dat['z']):\n",
    "\n",
    "       model[i]   = effmag(z, olambda, MB)\n",
    "\n",
    "    return  np.sum((dat['Effective magnitude'] - model)**2.) "
   ]
  },
  {
   "cell_type": "code",
   "execution_count": 27,
   "metadata": {},
   "outputs": [
    {
     "name": "stdout",
     "output_type": "stream",
     "text": [
      "Optimization terminated successfully.\n",
      "         Current function value: 6.018565\n",
      "         Iterations: 10\n",
      "         Function evaluations: 39\n",
      "         Gradient evaluations: 13\n"
     ]
    }
   ],
   "source": [
    "res = minimize(chi2, x0=[0.5, 5.0], options={'disp': True})"
   ]
  },
  {
   "cell_type": "code",
   "execution_count": 28,
   "metadata": {},
   "outputs": [
    {
     "data": {
      "text/plain": [
       "array([0.75146005, 5.82802909])"
      ]
     },
     "execution_count": 28,
     "metadata": {},
     "output_type": "execute_result"
    }
   ],
   "source": [
    "res.x"
   ]
  },
  {
   "cell_type": "code",
   "execution_count": 29,
   "metadata": {},
   "outputs": [
    {
     "data": {
      "text/plain": [
       "<matplotlib.legend.Legend at 0x7f0e2cebf1d0>"
      ]
     },
     "execution_count": 29,
     "metadata": {},
     "output_type": "execute_result"
    },
    {
     "data": {
      "image/png": "[encoded data removed]",
      "text/plain": [
       "<Figure size 432x288 with 1 Axes>"
      ]
     },
     "metadata": {
      "needs_background": "light"
     },
     "output_type": "display_data"
    }
   ],
   "source": [
    "zs = np.arange(0.01, 0.85, 0.01)\n",
    "\n",
    "pl.plot(dat['z'], dat['Effective magnitude'], marker='.', lw=0.0)\n",
    "\n",
    "pl.plot(zs, effmag(zs, 0.0, 6.), c='k',   label='No Dark Energy', alpha=0.5)\n",
    "pl.plot(zs, effmag(zs, 0.5, 6.), c='k',   label='50% Dark Energy!')\n",
    "pl.plot(zs, effmag(zs, 0.75, 6.), c='c', label='75% Dark Energy!')\n",
    "\n",
    "pl.xlabel('z')\n",
    "pl.ylabel('Effective magnitude')\n",
    "\n",
    "pl.legend(loc=4, frameon=False)"
   ]
  },
  {
   "cell_type": "markdown",
   "metadata": {
    "lang": "ne"
   },
   "source": [
    "त्यसोभए ब्रह्माण्डमा 75 75% डार्क एनर्जी जस्तो केहि छ! यो मापन गर्ने पहिलो व्यक्तिको रूपमा, शाऊल, ब्रायन स्मिट र एडम रीससँग मिलेर उनीहरूको कामका लागि २०११ को नोबेल पुरस्कारबाट सम्मानित हुनेछन्।"
   ]
  },
  {
   "cell_type": "markdown",
   "metadata": {},
   "source": [
    "![title](desihigh/images/perlmutter_nobel.jpg)"
   ]
  },
  {
   "cell_type": "markdown",
   "metadata": {
    "lang": "ne"
   },
   "source": [
    "तपाईं उनको कामको सबै विवरण यहाँ पाउन सक्नुहुन्छ: https://arxiv.org/pdf/astro-ph/9812133.pdf। चेतावनी, यो पेशेवरहरूको लागि हो त्यसैले चिन्ता नलिनुहोस् यदि तपाईं धेरै बुझ्नुहुन्न भने!"
   ]
  },
  {
   "cell_type": "markdown",
   "metadata": {
    "lang": "ne"
   },
   "source": [
    "DESI High मा मानद प्रधानाध्यापकको रूपमा, शाऊलको एक विशेष उद्घाटन ठेगाना हो तपाईं, सबै विद्यार्थीहरूलाई!"
   ]
  },
  {
   "cell_type": "code",
   "execution_count": 30,
   "metadata": {},
   "outputs": [
    {
     "data": {
      "text/html": [
       "\n",
       "        <iframe\n",
       "            width=\"900\"\n",
       "            height=\"1000\"\n",
       "            src=\"desihigh/perlmutter/letter.pdf\"\n",
       "            frameborder=\"0\"\n",
       "            allowfullscreen\n",
       "        ></iframe>\n",
       "        "
      ],
      "text/plain": [
       "<IPython.lib.display.IFrame at 0x7f0e2cf2a8d0>"
      ]
     },
     "execution_count": 30,
     "metadata": {},
     "output_type": "execute_result"
    }
   ],
   "source": [
    "perl = resource_filename('desihigh', 'perlmutter/letter.pdf')\n",
    "perl = os.path.relpath(perl)\n",
    "\n",
    "IFrame(perl, width=900, height=1000)"
   ]
  },
  {
   "cell_type": "markdown",
   "metadata": {},
   "source": [
    "The primary motivation for DESI is to repeat similar distant-redshift measurements much more precisely and learn much more about this spooky Dark Energy! "
   ]
  }
 ],
 "metadata": {
  "kernelspec": {
   "display_name": "Python 3",
   "language": "python",
   "name": "python3"
  },
  "language_info": {
   "codemirror_mode": {
    "name": "ipython",
    "version": 3
   },
   "file_extension": ".py",
   "mimetype": "text/x-python",
   "name": "python",
   "nbconvert_exporter": "python",
   "pygments_lexer": "ipython3",
   "version": "3.7.8"
  },
  "latex_envs": {
   "LaTeX_envs_menu_present": true,
   "autoclose": false,
   "autocomplete": true,
   "bibliofile": "biblio.bib",
   "cite_by": "apalike",
   "current_citInitial": 1,
   "eqLabelWithNumbers": true,
   "eqNumInitial": 1,
   "hotkeys": {
    "equation": "Ctrl-E",
    "itemize": "Ctrl-I"
   },
   "labels_anchors": false,
   "latex_user_defs": false,
   "report_style_numbering": false,
   "user_envs_cfg": false
  },
  "nbTranslate": {
   "displayLangs": [
    "ne"
   ],
   "hotkey": "alt-t",
   "langInMainMenu": true,
   "sourceLang": "en",
   "targetLang": "ne",
   "useGoogleTranslate": true
  }
 },
 "nbformat": 4,
 "nbformat_minor": 4
}
