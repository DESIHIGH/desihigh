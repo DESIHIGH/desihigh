{
 "cells": [
  {
   "cell_type": "code",
   "execution_count": null,
   "metadata": {},
   "outputs": [],
   "source": [
    "import os\n",
    "import numpy               as     np\n",
    "import astropy.io.fits     as     fits\n",
    "import pylab               as     pl\n",
    "import pandas              as     pd\n",
    "import matplotlib.pyplot   as     plt \n",
    "\n",
    "from   IPython.display     import YouTubeVideo\n",
    "from   scipy               import interpolate\n",
    "from   scipy               import optimize\n",
    "from   tools.wave2rgb      import wavelength_to_rgb\n",
    "from   tools.resample_flux import trapz_rebin"
   ]
  },
  {
   "cell_type": "markdown",
   "metadata": {
    "lang": "es"
   },
   "source": [
    "# Una enana blanca como la nieve"
   ]
  },
  {
   "cell_type": "markdown",
   "metadata": {
    "lang": "es"
   },
   "source": [
    "Cuando miras al cielo, ¿quién sabe qué encontrarás? Todos estamos familiarizados con nuestro propio [Sol](https://solarsystem.nasa.gov/solar-system/sun/overview/),"
   ]
  },
  {
   "cell_type": "markdown",
   "metadata": {},
   "source": [
    "<img src=\"images/sun.jpg\" alt=\"Drawing\" style=\"width: 800px;\"/>"
   ]
  },
  {
   "cell_type": "markdown",
   "metadata": {
    "lang": "es"
   },
   "source": [
    "aparentemente siempre presente, el cual vemos continuamente día a día. ¿Le sorprendería saber que en 5,500 millones de años el sol cambiará  y será irreconocible a medida que se agote la fusión nuclear que alimenta el hidrógeno?"
   ]
  },
  {
   "cell_type": "markdown",
   "metadata": {},
   "source": [
    "<img src=\"images/RedGiant.jpg\" alt=\"Drawing\" style=\"width: 800px;\"/>"
   ]
  },
  {
   "cell_type": "markdown",
   "metadata": {
    "lang": "es"
   },
   "source": [
    "Durante esta aparente crisis de la mediana edad, el sol comenzará a fusionar el helio para crear carbono, fundamental para la vida en la tierra, y oxígeno, necesario para sustentarla. Expandiéndose entre diez o cien veces el tamaño del Sol a día de hoy, pronto envolverá a Mercurio y Venus, y quizás [incluso a la Tierra misma](https://phys.org/news/2016-05-earth-survive-sun-red-giant.html#:~:text=Red%20Giant%20Phase%3A,collapses%20under%20its%20own%20weight.), y eventualmente explotará como una espectacular [nebulosas planetarias](https://es.wikipedia.org/wiki/Nebulosa_planetaria):"
   ]
  },
  {
   "cell_type": "markdown",
   "metadata": {},
   "source": [
    "<img src=\"images/PlanetaryNebulae.jpg\" alt=\"Drawing\" style=\"width: 800px;\"/>"
   ]
  },
  {
   "cell_type": "markdown",
   "metadata": {
    "lang": "es"
   },
   "source": [
    "El carbono-oxígeno ceniciento en el centro sobrevivirá como una reliquia fosilizada, disipando energía lo suficientemente lento como para que continúe sobreviviendo durante otros 13,8 mil millones de años, la edad actual de nuestro Universo, y ver en muchos más milenios."
   ]
  },
  {
   "cell_type": "markdown",
   "metadata": {
    "lang": "es"
   },
   "source": [
    "Podemos aprender sobre este eventual destino del Sol y su impacto en la Tierra, estudiando a las vecinas enanas blancas de la Vía Láctea. ¡Veremos uno de esos candidatos que DESI ha observado recientemente!"
   ]
  },
  {
   "cell_type": "code",
   "execution_count": null,
   "metadata": {},
   "outputs": [],
   "source": [
    "# Load the DESI spectrum\n",
    "zbest = fits.open('student_andes/zbest-mws-66003-20200315-wd.fits')[1]\n",
    "coadd = fits.open('student_andes/coadd-mws-66003-20200315-wd.fits')"
   ]
  },
  {
   "cell_type": "code",
   "execution_count": null,
   "metadata": {},
   "outputs": [],
   "source": [
    "# Get its position on the sky:\n",
    "ra, dec = float(zbest.data['TARGET_RA']), float(zbest.data['TARGET_DEC'])"
   ]
  },
  {
   "cell_type": "markdown",
   "metadata": {
    "lang": "es"
   },
   "source": [
    "Su posición en el cielo nocturno se encuentra justo encima de la constelación [Ursa Marjor](https://es.wikipedia.org/wiki/Osa_Mayor) o la Osa Mayor,"
   ]
  },
  {
   "cell_type": "markdown",
   "metadata": {},
   "source": [
    "<img src=\"images/UrsaMajor.jpg\" alt=\"Drawing\" style=\"width: 800px;\"/>"
   ]
  },
  {
   "cell_type": "markdown",
   "metadata": {
    "lang": "es"
   },
   "source": [
    "familiar en el cielo nocturno:"
   ]
  },
  {
   "cell_type": "markdown",
   "metadata": {},
   "source": [
    "<img src=\"images/UrsaMajor2.png\" alt=\"Drawing\" style=\"width: 800px;\"/>"
   ]
  },
  {
   "cell_type": "markdown",
   "metadata": {
    "lang": "es"
   },
   "source": [
    "Si miraras el tiempo suficiente, verías un cambio casi imperceptible en la posición aparente conforme nuestro punto de vista cambia a medida que la Tierra orbita alrededor del Sol. Recuerda, ¡los dinosaurios vagaban por el planeta Tierra, cuando estaba al otro lado de la galaxia!\n",
    "\n",
    "El movimiento de la Tierra alrededor del sol es suficiente, dado un instrumento lo suficientemente preciso, para calcular la distancia a nuestra Enana Blanca, con una trigonometría simple que probablemente ya hayas visto:"
   ]
  },
  {
   "cell_type": "markdown",
   "metadata": {},
   "source": [
    "<img src=\"images/PDistance.jpg\" alt=\"Drawing\" style=\"width: 800px;\"/>"
   ]
  },
  {
   "cell_type": "markdown",
   "metadata": {
    "lang": "es"
   },
   "source": [
    "El satélite espacial [GAIA](https://www.esa.int/Space_in_Member_States/Spain/Gaia_crea_el_mapa_estelar_mas_completo_de_nuestra_Galaxia_y_mas_alla) fue diseñado precisamente para hacer esto y eventualmente mapeará mil millones de estrellas en la Vía Láctea, aproximadamente una de cada cien allí, de esta manera."
   ]
  },
  {
   "cell_type": "markdown",
   "metadata": {},
   "source": [
    "<img src=\"images/Gaia.jpg\" alt=\"Drawing\" style=\"width: 800px;\"/>"
   ]
  },
  {
   "cell_type": "markdown",
   "metadata": {
    "lang": "es"
   },
   "source": [
    "Con este paralaje, GAIA nos dice la distancia a nuestra enana blanca:"
   ]
  },
  {
   "cell_type": "code",
   "execution_count": null,
   "metadata": {},
   "outputs": [],
   "source": [
    "# Distancia calculada con paralaje de GAIA (Bailer-Jones et al. 2018).\n",
    "# Datos de fotometría y de la [distancia calculda](https://ui.adsabs.harvard.edu/abs/2018AJ....156...58B/)\n",
    "# pueden ser enconrados en los [archivos de GAIA](https://gea.esac.esa.int/archive/)\n",
    "dist_para = 784.665266     # parcsecs, 1 parsec = 3.0857 x 10^16 m. \n",
    "\n",
    "parsec    = 3.085677581e16 # m \n",
    "\n",
    "# AU: Unidad astronómica - distancia entre el Sol y la Tierra.\n",
    "au        = 1.495978707e11 # m"
   ]
  },
  {
   "cell_type": "code",
   "execution_count": null,
   "metadata": {},
   "outputs": [],
   "source": [
    "print(' El paralaje GAIA nos indica que la distancia a nuestra Enana Blanca es {:.0f} millones de veces la distancia de la Tierra al Sol'.format(dist_para * parsec / au / 1.e6))"
   ]
  },
  {
   "cell_type": "markdown",
   "metadata": {
    "lang": "es"
   },
   "source": [
    "La cámara GAIA está diseñada para medir el brillo de la enana blanca en tres partes diferentes del espectro visible, correspondientes a los colores que se muestran a continuación. Reconocerás esto como el mismo estilo de diagrama que exploramos para las líneas de Hidrógeno en la Introducción."
   ]
  },
  {
   "cell_type": "code",
   "execution_count": null,
   "metadata": {},
   "outputs": [],
   "source": [
    "#( Pivote) Longitud de onda de los filtros de GAIA DR2\n",
    "GAIA = {'G_WAVE': 6230.6, 'BP_WAVE': 5051.5, 'RP_WAVE': 7726.2}"
   ]
  },
  {
   "cell_type": "code",
   "execution_count": null,
   "metadata": {},
   "outputs": [],
   "source": [
    "for wave in GAIA.values():\n",
    "  # color = [r, g, b]\n",
    "  color = wavelength_to_rgb(wave / 10.)       \n",
    "  pl.axvline(x=wave / 10., c=color)\n",
    "\n",
    "pl.title('Longitudes de onda (y colores) a los que GAIA mide el brillo de cada estrella', pad=10.5, fontsize=10)\n",
    "pl.xlabel('Longitud de onda en el vacío [nanometros]')\n",
    "pl.xlim(380., 780.)"
   ]
  },
  {
   "cell_type": "code",
   "execution_count": null,
   "metadata": {},
   "outputs": [],
   "source": [
    "for band in ['G', 'BP', 'RP']:\n",
    "    GAIA[band + '_MAG']  = zbest.data['GAIA_PHOT_{}_MEAN_MAG'.format(band)][0]    \n",
    "    GAIA[band + '_FLUX'] = 10.**(-(GAIA[band + '_MAG'] + (25.7934 - 25.6884)) / 2.5) * 3631. / 3.34e4 / GAIA[band + '_WAVE']**2."
   ]
  },
  {
   "cell_type": "code",
   "execution_count": null,
   "metadata": {},
   "outputs": [],
   "source": [
    "# Añade los errores en la magnitud que los catálogos de DESI no contienen.\n",
    "GAIA['G_MAGERR']  = 0.0044\n",
    "GAIA['BP_MAGERR'] = 0.0281\n",
    "GAIA['RP_MAGERR'] = 0.0780"
   ]
  },
  {
   "cell_type": "code",
   "execution_count": null,
   "metadata": {},
   "outputs": [],
   "source": [
    "for key, value in GAIA.items():\n",
    "    print('{:10s} \\t {:05.4f}'.format(key, value))"
   ]
  },
  {
   "cell_type": "markdown",
   "metadata": {
    "lang": "es"
   },
   "source": [
    "Esta combinación, una medida de distancia (desde el paralaje) y de brillo aparente (en varios colores), es increíblemente poderosa, ya que juntas nos dicen la luminosidad o brillo intrínseco de la enana en lugar de cómo la percibimos, a partir de lo cual podemos determinar qué física podría estar determinando qué tan brillante es la enana blanca."
   ]
  },
  {
   "cell_type": "markdown",
   "metadata": {},
   "source": [
    "# DESI"
   ]
  },
  {
   "cell_type": "markdown",
   "metadata": {
    "lang": "es"
   },
   "source": [
    "Al resolver las variaciones sutiles en la cantidad de luz con la longitud de onda, DESI nos da una mucho mejor idea  de la composición de la Enana Blanca y su historia a partir de todo su espectro, en lugar de unas pocas mediciones en diferentes colores:"
   ]
  },
  {
   "cell_type": "code",
   "execution_count": null,
   "metadata": {},
   "outputs": [],
   "source": [
    "# Obten la longitud de onda y el flujo. \n",
    "wave  = coadd[1].data['WAVELENGTH']\n",
    "count = coadd[1].data['TARGET35191335094848528']"
   ]
  },
  {
   "cell_type": "code",
   "execution_count": null,
   "metadata": {},
   "outputs": [],
   "source": [
    "# Gráfica el espectro de DESI\n",
    "pl.figure(figsize=(15, 10))\n",
    "pl.plot(wave, count)\n",
    "pl.grid()\n",
    "pl.xlabel('Wavelength $[\\AA]$')\n",
    "pl.ylim(ymin=0.)\n",
    "pl.title('TARGET35191335094848528')"
   ]
  },
  {
   "cell_type": "markdown",
   "metadata": {
    "lang": "es"
   },
   "source": [
    "Los astrónomos han pasado mucho tiempo estudiando estrellas, clasificándolas de acuerdo a diferentes tipos - no menos importante [Annie Jump Cannon](https://www.mujeresenlahistoria.com/2014/08/besando-las-estrellas-annie-jump-cannon.html) ([o en inglés](https://www.womenshistory.org/education-resources/biographies/annie-jump-cannon))"
   ]
  },
  {
   "cell_type": "markdown",
   "metadata": {},
   "source": [
    "<img src=\"images/anniecannon.jpg\" alt=\"Drawing\" style=\"width: 800px;\"/>"
   ]
  },
  {
   "cell_type": "markdown",
   "metadata": {
    "lang": "es"
   },
   "source": [
    "eso nos ha dejado con una nueva capacidad para predecir el espectro de una estrella a una temperatura determinada, $g$: la aceleración debida a la gravedad en su superficie, y su masa. Dadas las estrellas 'estándar', aquellas con restricciones de distancia externas, también podemos determinar qué tan intrínsecamente brillante es una estrella dada con un espectro determinado. Tomemos estos:"
   ]
  },
  {
   "cell_type": "code",
   "execution_count": null,
   "metadata": {},
   "outputs": [],
   "source": [
    "# Modelos de espectros de una enanas blancas\n",
    "# [Levenhagen 2017](https://ui.adsabs.harvard.edu/abs/2017ApJS..231....1L)\n",
    "spec_da_list       = os.listdir('dat/WDspec/')\n",
    "model_flux_spec_da = []\n",
    "model_wave_spec_da = []\n",
    "\n",
    "T_spec_da          = []\n",
    "logg_spec_da       = []\n",
    "\n",
    "# Haz un ciclo sobre todo los archivos en el directorio y únelos en una lista\n",
    "# Loop over files in the directory and collect into a list. \n",
    "for filename in spec_da_list:\n",
    "    if filename[-4:] != '.npz':\n",
    "        continue\n",
    "    model = np.load('dat/WDspec/' + filename)['arr_0']\n",
    "    model_flux_spec_da.append(model[:,1])\n",
    "    model_wave_spec_da.append(model[:,0])\n",
    "    T, logg = filename.split('.')[0].split('t0')[-1].split('g')\n",
    "    T_spec_da.append(float(T) * 1000.)\n",
    "    logg_spec_da.append(float(logg[:-1]) / 10.)\n",
    "    \n",
    "print(' {:d} Modelos de espectros colectados.'.format(len(spec_da_list)))"
   ]
  },
  {
   "cell_type": "code",
   "execution_count": null,
   "metadata": {},
   "outputs": [],
   "source": [
    "#Seleccionaremos uno de cada 10 modelos de enanas blancas para graficarlos\n",
    "\n",
    "nth = 10\n",
    "\n",
    "for model_wave, model_flux, model_temp in zip(model_wave_spec_da[::nth], model_flux_spec_da[::nth], T_spec_da[::nth]):\n",
    "    pl.plot(model_wave, model_flux / model_flux[-1], label=r'$T = {:.1e}$'.format(model_temp))\n",
    "\n",
    "# Otros comandos para la gráfica\n",
    "pl.xlim(3000., 10000.)\n",
    "# pl.ylim(ymin=1., ymax=3.6)\n",
    "pl.legend(frameon=False, ncol=2)\n",
    "pl.xlabel('Wavelength [Angstroms]')\n",
    "pl.ylabel('Normalised flux')"
   ]
  },
  {
   "cell_type": "markdown",
   "metadata": {
    "lang": "es"
   },
   "source": [
    "En primer lugar, ¡estas enanas blancas están calientes! A 240,000 Kelvin, no debes tocar una. Podemos ver que la enana blanca más caliente es más brillante en una longitud de onda corta y, por lo tanto, aparecerá azul. Exactamente de la misma manera que la parte más azul de una llama es la más caliente:"
   ]
  },
  {
   "cell_type": "markdown",
   "metadata": {},
   "source": [
    "<img src=\"images/bunsen.jpg\" alt=\"Drawing\" style=\"width: 280px;\"/>"
   ]
  },
  {
   "cell_type": "markdown",
   "metadata": {
    "lang": "es"
   },
   "source": [
    "Así que ahora tenemos todo para encontrar la temperatura de la Enana Blanca que DESI pudo encontrar. Cómo hicimos en la Introducción, simplemente buscamos el modelo que se parece más a los datos."
   ]
  },
  {
   "cell_type": "code",
   "execution_count": null,
   "metadata": {},
   "outputs": [],
   "source": [
    "# rango de longitud de onda que será ajustado\n",
    "wave_min = 3750.\n",
    "wave_max = 5200.\n",
    "\n",
    "sq_diff  = []\n",
    "\n",
    "# Haciendo una máscara en el rango que será ajustado\n",
    "\n",
    "fitted_range = (wave > wave_min) & (wave < wave_max)\n",
    "fitted_wave  =  wave[fitted_range] \n",
    "\n",
    "for model_wave, model_flux in zip(model_wave_spec_da, model_flux_spec_da):\n",
    "    # Remuestreo de la resolución del modelo para ajustar al espectro observado\n",
    "    model_flux_resampled = trapz_rebin(model_wave, model_flux, fitted_wave)\n",
    "    \n",
    "    # Calcula la suma cuadrática de la diferencia de los modelos individuales, normalizados, y el espectro observado.\n",
    "    sq_diff.append(np.sum((model_flux_resampled / np.median(model_flux_resampled) - count[fitted_range] / np.median(count[fitted_range]))**2.))\n",
    "\n",
    "# Mejor ajuste por mínimos cuadrados ponderados, de la gravedad superficial y la temperatura a partir del espectro de DESI\n",
    "arg_min   = np.argmin(sq_diff)\n",
    "T_desi    = T_spec_da[arg_min]\n",
    "logg_desi = logg_spec_da[arg_min]"
   ]
  },
  {
   "cell_type": "code",
   "execution_count": null,
   "metadata": {},
   "outputs": [],
   "source": [
    "# Grafica solo el mejor ajuste\n",
    "fitted_range = (model_wave_spec_da[arg_min] > wave_min) & (model_wave_spec_da[arg_min] < wave_max)\n",
    "fitted_range_data = (wave > wave_min) & (wave < wave_max)\n",
    "\n",
    "pl.figure(figsize=(15, 10))\n",
    "pl.plot(wave[fitted_range_data], count[fitted_range_data] / np.median(count[fitted_range_data]), label='DESI spectrum')\n",
    "pl.plot(model_wave_spec_da[arg_min][fitted_range], model_flux_spec_da[arg_min][fitted_range] / np.median(model_flux_spec_da[arg_min][fitted_range]), label='Best-fit model')\n",
    "pl.grid()\n",
    "pl.xlim(wave_min, wave_max)\n",
    "pl.xlabel('Wavelength [Angstroms]')\n",
    "pl.ylabel('Normalised Flux')\n",
    "pl.legend(frameon=False)\n",
    "pl.title('DESI White Dwarf:   Temperature = ' + str(T_desi) + ' K;  $\\log_{10}$(g) = ' + str(logg_desi))"
   ]
  },
  {
   "cell_type": "markdown",
   "metadata": {
    "lang": "es"
   },
   "source": [
    "Así que nuestra enana blanca tiene unos 26,000 Kelvin. Mientras que la gravedad superficial sería insoportable. Si recuerda, la aceleración gravitacional se deriva de la masa y el radio de un cuerpo como $g = \\frac{G \\cdot M}{r^2}$ y es aproximadamente una medida de cuán denso es un objeto. Veamos cómo se ve esto para algunas fuentes conocidas"
   ]
  },
  {
   "cell_type": "code",
   "execution_count": null,
   "metadata": {},
   "outputs": [],
   "source": [
    "logg = pd.read_csv('dat/logg.txt', sep='\\s+', comment='#', names=['Cuerpo', 'Gravedad en superficie [g]'])\n",
    "logg = logg.sort_values('Gravedad en superficie [g]')\n",
    "logg"
   ]
  },
  {
   "cell_type": "code",
   "execution_count": null,
   "metadata": {},
   "outputs": [],
   "source": [
    "fig, ax = plt.subplots()\n",
    "\n",
    "pl.plot(np.arange(0, len(logg), 1), logg['Gravedad en superficie [g]'], marker='.', c='k')\n",
    "\n",
    "plt.xticks(np.arange(len(logg)))\n",
    "ax.set_xticklabels(logg['Cuerpo'], rotation='vertical')\n",
    "ax.set_ylabel('Gravedad en Superficie [g]')"
   ]
  },
  {
   "cell_type": "markdown",
   "metadata": {
    "lang": "es"
   },
   "source": [
    "Entonces, la aceleración en Júpiter es algunas veces mayor que en la Tierra, mientras que en el Sol sería 30 veces mayor. La fuerza que se siente durante el despegue de un vuelo es aproximadamente un 30% mayor que la aceleración debida a la gravedad en la Tierra. Para nuestra enana blanca de DESI, la aceleración debida a la gravedad en la superficie es:"
   ]
  },
  {
   "cell_type": "code",
   "execution_count": null,
   "metadata": {},
   "outputs": [],
   "source": [
    "logg = 7.6 \n",
    "\n",
    "g    = 10.**7.6 # cm2 / s.\n",
    "g   /= 100.     # m2 / s\n",
    "\n",
    "g   /= 9.81     # Relative to that on Earth, i.e. [g].   \n",
    "g"
   ]
  },
  {
   "cell_type": "markdown",
   "metadata": {
    "lang": "es"
   },
   "source": [
    "veces mayor que en la Tierra! De hecho, si no fuera por las extrañas restricciones sobre lo que los electrones pueden y no pueden hacer (según lo determinado por la Mecánica Cuántica), la Enana Blanca sería tan densa que colapsaría por completo. ¡Imagínate!"
   ]
  },
  {
   "cell_type": "markdown",
   "metadata": {
    "lang": "es"
   },
   "source": [
    "Ahora es tu turno. ¿Puedes encontrar una clase de objeto incluso más densa que una enana blanca? ¿Cuál es la aceleración debida a la gravedad en su superficie?\n",
    "\n",
    "¡Más difícil! ¡Puede que seas uno de los primeros en ver a esta Enana Blanca 'de cerca'! ¿Qué más puedes averiguar al respecto? Aquí hay algo para comenzar ..."
   ]
  },
  {
   "cell_type": "code",
   "execution_count": null,
   "metadata": {},
   "outputs": [],
   "source": [
    "model_colors = pd.read_csv('dat/WDphot/Table_DA.txt', sep='\\s+', comment='#') \n",
    "model_colors = model_colors[['Teff', 'logg', 'Age', 'G', 'G_BP', 'G_RP']]\n",
    "model_colors"
   ]
  },
  {
   "cell_type": "code",
   "execution_count": null,
   "metadata": {},
   "outputs": [],
   "source": [
    "GAIA['G_MAG'], GAIA['BP_MAG'], GAIA['RP_MAG']"
   ]
  },
  {
   "cell_type": "code",
   "execution_count": null,
   "metadata": {},
   "outputs": [],
   "source": [
    "GAIA['G_MAGERR'], GAIA['BP_MAGERR'], GAIA['RP_MAGERR']"
   ]
  }
 ],
 "metadata": {
  "kernelspec": {
   "display_name": "Python 3",
   "language": "python",
   "name": "python3"
  },
  "language_info": {
   "codemirror_mode": {
    "name": "ipython",
    "version": 3
   },
   "file_extension": ".py",
   "mimetype": "text/x-python",
   "name": "python",
   "nbconvert_exporter": "python",
   "pygments_lexer": "ipython3",
   "version": "3.8.5"
  },
  "latex_envs": {
   "LaTeX_envs_menu_present": true,
   "autoclose": false,
   "autocomplete": true,
   "bibliofile": "biblio.bib",
   "cite_by": "apalike",
   "current_citInitial": 1,
   "eqLabelWithNumbers": true,
   "eqNumInitial": 1,
   "hotkeys": {
    "equation": "Ctrl-E",
    "itemize": "Ctrl-I"
   },
   "labels_anchors": false,
   "latex_user_defs": false,
   "report_style_numbering": false,
   "user_envs_cfg": false
  },
  "nbTranslate": {
   "displayLangs": [
    "es"
   ],
   "hotkey": "alt-t",
   "langInMainMenu": true,
   "sourceLang": "en",
   "targetLang": "es",
   "useGoogleTranslate": true
  }
 },
 "nbformat": 4,
 "nbformat_minor": 4
}
