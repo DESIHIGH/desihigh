{
  "cells": [
    {
      "cell_type": "markdown",
      "metadata": {
        "id": "view-in-github",
        "colab_type": "text"
      },
      "source": [
        "<a href=\"https://colab.research.google.com/github/alxogm/DESI-HighSchool/blob/alxogm-colab-spanish/Espanol/Colab_es.ipynb\" target=\"_parent\"><img src=\"https://colab.research.google.com/assets/colab-badge.svg\" alt=\"Open In Colab\"/></a>"
      ]
    },
    {
      "cell_type": "markdown",
      "id": "79ddf98a",
      "metadata": {
        "id": "79ddf98a"
      },
      "source": [
        "\n",
        "\n",
        "```\n",
        "# This is formatted as code\n",
        "```\n",
        "\n",
        "# Bienvenid@s a DESI High @ Google Collab!"
      ]
    },
    {
      "cell_type": "markdown",
      "id": "5c7d4a3d",
      "metadata": {
        "id": "5c7d4a3d"
      },
      "source": [
        "![title](https://github.com/michaelJwilson/desihigh/blob/main/desihigh/images/colab.webp?raw=1)"
      ]
    },
    {
      "cell_type": "code",
      "execution_count": null,
      "id": "1a017f3b",
      "metadata": {
        "id": "1a017f3b"
      },
      "outputs": [],
      "source": [
        "%load_ext autoreload\n",
        "%autoreload 2"
      ]
    },
    {
      "cell_type": "markdown",
      "id": "0f903986",
      "metadata": {
        "id": "0f903986"
      },
      "source": [
        "¡Te espera una excitante aventura! Pronto tendrás acceso a datos directos del telescopio DESI, con los que podrás realizar tus propios experimentos."
      ]
    },
    {
      "cell_type": "markdown",
      "id": "fe224eea",
      "metadata": {
        "id": "fe224eea"
      },
      "source": [
        "Para poder crear tus propios experimentos y que puedas guardarlos, trabajaremos en Google colab. Esto te permitirá tener una copia de todos tus cambios en tu Disco de Google Drive."
      ]
    },
    {
      "cell_type": "markdown",
      "id": "0c38b0ba",
      "metadata": {
        "id": "0c38b0ba"
      },
      "source": [
        "\n",
        "\n",
        "```\n",
        "# This is formatted as code\n",
        "```\n",
        "Primero, necesitamos copiar el* script* de inicio:"
      ]
    },
    {
      "cell_type": "code",
      "execution_count": 1,
      "id": "269a5fae",
      "metadata": {
        "id": "269a5fae",
        "outputId": "1d2d0a7f-8b83-42e6-ebf8-2907134e6ba9",
        "colab": {
          "base_uri": "https://localhost:8080/"
        }
      },
      "outputs": [
        {
          "output_type": "stream",
          "name": "stdout",
          "text": [
            "--2024-10-11 11:08:00--  https://raw.githubusercontent.com/michaelJwilson/desihigh/main/setup_colab.py\n",
            "Resolving raw.githubusercontent.com (raw.githubusercontent.com)... 185.199.108.133, 185.199.109.133, 185.199.110.133, ...\n",
            "Connecting to raw.githubusercontent.com (raw.githubusercontent.com)|185.199.108.133|:443... connected.\n",
            "HTTP request sent, awaiting response... 200 OK\n",
            "Length: 1127 (1.1K) [text/plain]\n",
            "Saving to: ‘setup_colab.py’\n",
            "\n",
            "setup_colab.py      100%[===================>]   1.10K  --.-KB/s    in 0s      \n",
            "\n",
            "2024-10-11 11:08:00 (46.6 MB/s) - ‘setup_colab.py’ saved [1127/1127]\n",
            "\n"
          ]
        }
      ],
      "source": [
        "! wget -O setup_colab.py https://raw.githubusercontent.com/michaelJwilson/desihigh/main/setup_colab.py"
      ]
    },
    {
      "cell_type": "markdown",
      "id": "0e65366d",
      "metadata": {
        "id": "0e65366d"
      },
      "source": [
        "Ahora, sin más preambulo, haremos que suceda la magia:"
      ]
    },
    {
      "cell_type": "code",
      "execution_count": 3,
      "id": "2d9fe293",
      "metadata": {
        "id": "2d9fe293",
        "outputId": "f170fba8-aa8c-4a24-e5b0-ee98f30280d8",
        "colab": {
          "base_uri": "https://localhost:8080/"
        }
      },
      "outputs": [
        {
          "output_type": "stream",
          "name": "stdout",
          "text": [
            "Mounted at /content/drive/\n"
          ]
        }
      ],
      "source": [
        "import setup_colab"
      ]
    },
    {
      "cell_type": "markdown",
      "id": "44a7ba81",
      "metadata": {
        "id": "44a7ba81"
      },
      "source": [
        "¡Felicidades!\n",
        "\n",
        "Acabas de *importar* tu primera libreria de python ✅"
      ]
    },
    {
      "cell_type": "markdown",
      "id": "b3a627e5",
      "metadata": {
        "id": "b3a627e5"
      },
      "source": [
        "Ahora si podremos empezar con el trabajo... ¡Abrochate los cinturones! y abre el siguiente link :"
      ]
    },
    {
      "cell_type": "markdown",
      "id": "5f541ea9",
      "metadata": {
        "id": "5f541ea9"
      },
      "source": [
        "[https://www.githubtocolab.com/DESIHIGH/desihigh](https://www.githubtocolab.com/DESIHIGH/desihigh)"
      ]
    },
    {
      "cell_type": "code",
      "source": [],
      "metadata": {
        "id": "8olzTqw6SVAD"
      },
      "id": "8olzTqw6SVAD",
      "execution_count": null,
      "outputs": []
    }
  ],
  "metadata": {
    "kernelspec": {
      "display_name": "Python 3 (ipykernel)",
      "language": "python",
      "name": "python3"
    },
    "language_info": {
      "codemirror_mode": {
        "name": "ipython",
        "version": 3
      },
      "file_extension": ".py",
      "mimetype": "text/x-python",
      "name": "python",
      "nbconvert_exporter": "python",
      "pygments_lexer": "ipython3",
      "version": "3.7.11"
    },
    "colab": {
      "provenance": [],
      "include_colab_link": true
    }
  },
  "nbformat": 4,
  "nbformat_minor": 5
}