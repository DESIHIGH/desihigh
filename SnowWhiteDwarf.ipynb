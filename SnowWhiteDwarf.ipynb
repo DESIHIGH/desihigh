{
 "cells": [
  {
   "cell_type": "code",
   "execution_count": null,
   "metadata": {},
   "outputs": [],
   "source": [
    "import os\n",
    "import numpy               as     np\n",
    "import astropy.io.fits     as     fits\n",
    "import pylab               as     pl\n",
    "import pandas              as     pd\n",
    "import matplotlib.pyplot   as     plt \n",
    "\n",
    "from   IPython.display     import YouTubeVideo\n",
    "from   scipy               import interpolate\n",
    "from   scipy               import optimize\n",
    "from   tools.wave2rgb      import wavelength_to_rgb\n",
    "from   tools.resample_flux import trapz_rebin"
   ]
  },
  {
   "cell_type": "markdown",
   "metadata": {},
   "source": [
    "# A snow white dwarf"
   ]
  },
  {
   "cell_type": "markdown",
   "metadata": {},
   "source": [
    "When you look to the sky, who knows what you will find?  We're all familiar with our own [sun](https://solarsystem.nasa.gov/solar-system/sun/overview/), "
   ]
  },
  {
   "cell_type": "markdown",
   "metadata": {},
   "source": [
    "<img src=\"images/sun.jpg\" alt=\"Drawing\" style=\"width: 800px;\"/>"
   ]
  },
  {
   "cell_type": "markdown",
   "metadata": {},
   "source": [
    "a seemingly ever present that we see continually day-to-day.  Would it surprise you to know that in 5.5 billion years the sun will change beyond recognition as the Hydrogen fuelling nuclear fusion within runs out?  "
   ]
  },
  {
   "cell_type": "markdown",
   "metadata": {},
   "source": [
    "<img src=\"images/RedGiant.jpg\" alt=\"Drawing\" style=\"width: 800px;\"/>"
   ]
  },
  {
   "cell_type": "markdown",
   "metadata": {},
   "source": [
    "During this apparent mid-life crisis, the sun will begin to fuse Helium to create the carbon fundamental to life on earth, and the oxygen necessary to sustain it.  Expanding to ten-to-hundreds the size of the sun today, it will soon envelope Mercury & Venus, and perhaps [even Earth itself](https://phys.org/news/2016-05-earth-survive-sun-red-giant.html#:~:text=Red%20Giant%20Phase%3A,collapses%20under%20its%20own%20weight.), and eventual explode as a spectacular [planetary nebulae](https://www.space.com/17715-planetary-nebula.html): "
   ]
  },
  {
   "cell_type": "markdown",
   "metadata": {},
   "source": [
    "<img src=\"images/PlanetaryNebulae.jpg\" alt=\"Drawing\" style=\"width: 800px;\"/>"
   ]
  },
  {
   "cell_type": "markdown",
   "metadata": {},
   "source": [
    "The ashen carbon-oxygen at the center will survive as a fossilised relic, dissipating energy just slowly enough that it will continue to survive for another 13.8 billion years, the current age of our Universe, and see in many more millenia."
   ]
  },
  {
   "cell_type": "markdown",
   "metadata": {},
   "source": [
    "We can learn about this eventual fate of the sun, and its impact on Earth, by studying neighbouring White Dwarves in the Milky Way.  We'll look at one such candidate that DESI has observed only recently!"
   ]
  },
  {
   "cell_type": "code",
   "execution_count": null,
   "metadata": {},
   "outputs": [],
   "source": [
    "# Load the DESI spectrum\n",
    "zbest = fits.open('student_andes/zbest-mws-66003-20200315-wd.fits')[1]\n",
    "coadd = fits.open('student_andes/coadd-mws-66003-20200315-wd.fits')"
   ]
  },
  {
   "cell_type": "code",
   "execution_count": null,
   "metadata": {},
   "outputs": [],
   "source": [
    "# Get its position on the sky:\n",
    "ra, dec = float(zbest.data['TARGET_RA']), float(zbest.data['TARGET_DEC'])"
   ]
  },
  {
   "cell_type": "markdown",
   "metadata": {},
   "source": [
    "It's position on the night sky lies just above [Ursa Marjor](https://en.wikipedia.org/wiki/Ursa_Major) or the Great Bear,"
   ]
  },
  {
   "cell_type": "markdown",
   "metadata": {},
   "source": [
    "<img src=\"images/UrsaMajor.jpg\" alt=\"Drawing\" style=\"width: 800px;\"/>"
   ]
  },
  {
   "cell_type": "markdown",
   "metadata": {},
   "source": [
    "familiar in the night sky:"
   ]
  },
  {
   "cell_type": "markdown",
   "metadata": {},
   "source": [
    "<img src=\"images/UrsaMajor2.png\" alt=\"Drawing\" style=\"width: 800px;\"/>"
   ]
  },
  {
   "cell_type": "markdown",
   "metadata": {},
   "source": [
    "If you were to stare long enough, you'd see an almost imperceptible change in the apparent position as our viewpoint changes as the Earth orbits the Sun.  Remember, the dinosaurs roamed planet Earth on the other side of the galaxy!\n",
    "\n",
    "The motion of the Earth around the sun is just enough, given a precise enough instrument, to calculate the distance to our White Dwarf given simple trigonometry you've likely already seen:  "
   ]
  },
  {
   "cell_type": "markdown",
   "metadata": {},
   "source": [
    "<img src=\"images/PDistance.jpg\" alt=\"Drawing\" style=\"width: 800px;\"/>"
   ]
  },
  {
   "cell_type": "markdown",
   "metadata": {},
   "source": [
    "The [GAIA](https://www.esa.int/Science_Exploration/Space_Science/Gaia_overview) space satellite was precisely designed to do this this and will eventually map one billion stars in the Milky Way, roughly one in every hundred there, in this way."
   ]
  },
  {
   "cell_type": "markdown",
   "metadata": {},
   "source": [
    "<img src=\"images/Gaia.jpg\" alt=\"Drawing\" style=\"width: 800px;\"/>"
   ]
  },
  {
   "cell_type": "markdown",
   "metadata": {},
   "source": [
    "With this parallax, GAIA tells us the distance to our white dwarf:  "
   ]
  },
  {
   "cell_type": "code",
   "execution_count": null,
   "metadata": {},
   "outputs": [],
   "source": [
    "# Distance calculated from Gaia parallax (Bailer-Jones et al. 2018).\n",
    "# Photometric data and the [computed distance](https://ui.adsabs.harvard.edu/abs/2018AJ....156...58B/) can be found at the [Gaia Archive](https://gea.esac.esa.int/archive/)\n",
    "dist_para = 784.665266     # parcsecs, 1 parsec = 3.0857 x 10^16 m. \n",
    "\n",
    "parsec    = 3.085677581e16 # m \n",
    "\n",
    "# AU: Astronomical Unit - distance between the Sun and the Earth.\n",
    "au        = 1.495978707e11 # m"
   ]
  },
  {
   "cell_type": "code",
   "execution_count": null,
   "metadata": {},
   "outputs": [],
   "source": [
    "print('GAIA parallax tells us that the distance to our White Dwarf is {:.0f} million x the distance from the Earth to the Sun.'.format(dist_para * parsec / au / 1.e6))"
   ]
  },
  {
   "cell_type": "markdown",
   "metadata": {},
   "source": [
    "The GAIA camera is designed to measure the brightness of the white dwarf in three different parts of the visible spectrum, corresponding to the colors shown below.  You'll recognise this as the same style plot we explored for Hydrogen Rydberg lines in the Intro."
   ]
  },
  {
   "cell_type": "code",
   "execution_count": null,
   "metadata": {},
   "outputs": [],
   "source": [
    "# (Pivot) Wavelengths for the Gaia DR2 filters.\n",
    "GAIA = {'G_WAVE': 6230.6, 'BP_WAVE': 5051.5, 'RP_WAVE': 7726.2}"
   ]
  },
  {
   "cell_type": "code",
   "execution_count": null,
   "metadata": {},
   "outputs": [],
   "source": [
    "for wave in GAIA.values():\n",
    "  # color = [r, g, b]\n",
    "  color = wavelength_to_rgb(wave / 10.)       \n",
    "  pl.axvline(x=wave / 10., c=color)\n",
    "\n",
    "pl.title('Wavelengths (and colors) at which GAIA measures the brightness of each star', pad=10.5, fontsize=10)\n",
    "pl.xlabel('Vacuum wavelength [nanometers]')\n",
    "pl.xlim(380., 780.)"
   ]
  },
  {
   "cell_type": "code",
   "execution_count": null,
   "metadata": {},
   "outputs": [],
   "source": [
    "for band in ['G', 'BP', 'RP']:\n",
    "    GAIA[band + '_MAG']  = zbest.data['GAIA_PHOT_{}_MEAN_MAG'.format(band)][0]    \n",
    "    GAIA[band + '_FLUX'] = 10.**(-(GAIA[band + '_MAG'] + (25.7934 - 25.6884)) / 2.5) * 3631. / 3.34e4 / GAIA[band + '_WAVE']**2."
   ]
  },
  {
   "cell_type": "code",
   "execution_count": null,
   "metadata": {},
   "outputs": [],
   "source": [
    "# Add in the mag. errors that DESI catalogues don't propagate.\n",
    "GAIA['G_MAGERR']  = 0.0044\n",
    "GAIA['BP_MAGERR'] = 0.0281\n",
    "GAIA['RP_MAGERR'] = 0.0780"
   ]
  },
  {
   "cell_type": "code",
   "execution_count": null,
   "metadata": {},
   "outputs": [],
   "source": [
    "for key, value in GAIA.items():\n",
    "    print('{:10s} \\t {:05.4f}'.format(key, value))"
   ]
  },
  {
   "cell_type": "markdown",
   "metadata": {},
   "source": [
    "This combination, a measurement of distance (from parallax) and of apparent brightness (in a number of colors), is incredibly powerful, as together they tell us the intrinsic luminosity or brightness of the dwarf rather than how it appears to us, from which we can determine what physics could be determining how bright the white dwarf is."
   ]
  },
  {
   "cell_type": "markdown",
   "metadata": {},
   "source": [
    "# DESI"
   ]
  },
  {
   "cell_type": "markdown",
   "metadata": {},
   "source": [
    "By resolving the subtle variations in the amount of light with wavelength, DESI gives us a much better idea of the White Dwarf composition and its history from its entire spectrum, rather than a few measurements at different colors:"
   ]
  },
  {
   "cell_type": "code",
   "execution_count": null,
   "metadata": {},
   "outputs": [],
   "source": [
    "# Get the wavelength and flux\n",
    "wave  = coadd[1].data['WAVELENGTH']\n",
    "count = coadd[1].data['TARGET35191335094848528']"
   ]
  },
  {
   "cell_type": "code",
   "execution_count": null,
   "metadata": {},
   "outputs": [],
   "source": [
    "# Plotting the DESI spectrum\n",
    "pl.figure(figsize=(15, 10))\n",
    "pl.plot(wave, count)\n",
    "pl.grid()\n",
    "pl.xlabel('Wavelength $[\\AA]$')\n",
    "pl.ylim(ymin=0.)\n",
    "pl.title('TARGET35191335094848528')"
   ]
  },
  {
   "cell_type": "markdown",
   "metadata": {},
   "source": [
    "Astronomers have spent a long time studying stars, classifying them according to different types - not least [Annie Jump Cannon](https://www.womenshistory.org/education-resources/biographies/annie-jump-cannon), "
   ]
  },
  {
   "cell_type": "markdown",
   "metadata": {},
   "source": [
    "<img src=\"images/anniecannon.jpg\" alt=\"Drawing\" style=\"width: 800px;\"/>"
   ]
  },
  {
   "cell_type": "markdown",
   "metadata": {},
   "source": [
    "that has left us with a new ability to predict the spectrum of a star of given temperature, little $g$ - the acceleration due to gravity on their surface, and their mass.  Given 'standard' stars, those with external distance constraints we can also determine how intrinsically bright a given star is with a determined spectrum.  Let's grab these:"
   ]
  },
  {
   "cell_type": "code",
   "execution_count": null,
   "metadata": {},
   "outputs": [],
   "source": [
    "# White Dwarf model spectra [Levenhagen 2017](https://ui.adsabs.harvard.edu/abs/2017ApJS..231....1L)\n",
    "spec_da_list       = os.listdir('dat/WDspec/')\n",
    "model_flux_spec_da = []\n",
    "model_wave_spec_da = []\n",
    "\n",
    "T_spec_da          = []\n",
    "logg_spec_da       = []\n",
    "\n",
    "# Loop over files in the directory and collect into a list. \n",
    "for filename in spec_da_list:\n",
    "    if filename[-4:] != '.npz':\n",
    "        continue\n",
    "    model = np.load('dat/WDspec/' + filename)['arr_0']\n",
    "    model_flux_spec_da.append(model[:,1])\n",
    "    model_wave_spec_da.append(model[:,0])\n",
    "    T, logg = filename.split('.')[0].split('t0')[-1].split('g')\n",
    "    T_spec_da.append(float(T) * 1000.)\n",
    "    logg_spec_da.append(float(logg[:-1]) / 10.)\n",
    "    \n",
    "print('Collected {:d} model spectra.'.format(len(spec_da_list)))"
   ]
  },
  {
   "cell_type": "code",
   "execution_count": null,
   "metadata": {},
   "outputs": [],
   "source": [
    "# We'll select every 10th model white dwarf spectra to plot. \n",
    "nth = 10\n",
    "\n",
    "for model_wave, model_flux, model_temp in zip(model_wave_spec_da[::nth], model_flux_spec_da[::nth], T_spec_da[::nth]):\n",
    "    pl.plot(model_wave, model_flux / model_flux[-1], label=r'$T = {:.1e}$'.format(model_temp))\n",
    "\n",
    "# Other commands to set the plot\n",
    "pl.xlim(3000., 10000.)\n",
    "# pl.ylim(ymin=1., ymax=3.6)\n",
    "pl.legend(frameon=False, ncol=2)\n",
    "pl.xlabel('Wavelength [Angstroms]')\n",
    "pl.ylabel('Normalised flux')"
   ]
  },
  {
   "cell_type": "markdown",
   "metadata": {},
   "source": [
    "Firstly, these white dwarves are hot!  At 240,000 Kelvin, you shouldn't touch one.  While we can see that the hottest white dwarf is brightest at short wavelength and will therefore appear blue.  In exactly the same way as the bluest part of a flame is the hottest:"
   ]
  },
  {
   "cell_type": "markdown",
   "metadata": {},
   "source": [
    "<img src=\"images/bunsen.jpg\" alt=\"Drawing\" style=\"width: 280px;\"/>"
   ]
  },
  {
   "cell_type": "markdown",
   "metadata": {},
   "source": [
    "So now we have everything to find the temperature of the White Dwarf that DESI was able to find.  As for the Intro., we simply find the model that looks most like the data.  "
   ]
  },
  {
   "cell_type": "code",
   "execution_count": null,
   "metadata": {},
   "outputs": [],
   "source": [
    "# wavelength range to be fitted\n",
    "wave_min = 3750.\n",
    "wave_max = 5200.\n",
    "\n",
    "sq_diff  = []\n",
    "\n",
    "# Masking the range to be fitted\n",
    "fitted_range = (wave > wave_min) & (wave < wave_max)\n",
    "fitted_wave  =  wave[fitted_range] \n",
    "\n",
    "for model_wave, model_flux in zip(model_wave_spec_da, model_flux_spec_da):\n",
    "    # Resample the model resoltuion to match the observed spectrum\n",
    "    model_flux_resampled = trapz_rebin(model_wave, model_flux, fitted_wave)\n",
    "    \n",
    "    # Compute the sum of the squared difference of the individually normalised model and observed spectra\n",
    "    sq_diff.append(np.sum((model_flux_resampled / np.median(model_flux_resampled) - count[fitted_range] / np.median(count[fitted_range]))**2.))\n",
    "    \n",
    "# Unit-weighted least-squared best-fit surface gravity and temperature from the DESI spctrum\n",
    "arg_min   = np.argmin(sq_diff)\n",
    "T_desi    = T_spec_da[arg_min]\n",
    "logg_desi = logg_spec_da[arg_min]"
   ]
  },
  {
   "cell_type": "code",
   "execution_count": null,
   "metadata": {},
   "outputs": [],
   "source": [
    "# Plot the best fit only\n",
    "fitted_range = (model_wave_spec_da[arg_min] > wave_min) & (model_wave_spec_da[arg_min] < wave_max)\n",
    "fitted_range_data = (wave > wave_min) & (wave < wave_max)\n",
    "\n",
    "pl.figure(figsize=(15, 10))\n",
    "pl.plot(wave[fitted_range_data], count[fitted_range_data] / np.median(count[fitted_range_data]), label='DESI spectrum')\n",
    "pl.plot(model_wave_spec_da[arg_min][fitted_range], model_flux_spec_da[arg_min][fitted_range] / np.median(model_flux_spec_da[arg_min][fitted_range]), label='Best-fit model')\n",
    "pl.grid()\n",
    "pl.xlim(wave_min, wave_max)\n",
    "pl.xlabel('Wavelength [Angstroms]')\n",
    "pl.ylabel('Normalised Flux')\n",
    "pl.legend(frameon=False)\n",
    "pl.title('DESI White Dwarf:   Temperature = ' + str(T_desi) + ' K;  $\\log_{10}$(g) = ' + str(logg_desi))"
   ]
  },
  {
   "cell_type": "markdown",
   "metadata": {},
   "source": [
    "So our white dwarf is a cool 26,000 Kelvin.  While the surface gravity would be unbearable.  If you remember, the gravitational acceleration is derived from the mass and radius of a body as $g = \\frac{G \\cdot M}{r^2}$ and is roughly a measure of how dense an object is.  Let's see what this looks like for a few well known sources"
   ]
  },
  {
   "cell_type": "code",
   "execution_count": null,
   "metadata": {},
   "outputs": [],
   "source": [
    "logg = pd.read_csv('dat/logg.txt', sep='\\s+', comment='#', names=['Body', 'Surface Gravity [g]'])\n",
    "logg = logg.sort_values('Surface Gravity [g]')\n",
    "logg"
   ]
  },
  {
   "cell_type": "code",
   "execution_count": null,
   "metadata": {},
   "outputs": [],
   "source": [
    "fig, ax = plt.subplots()\n",
    "\n",
    "pl.plot(np.arange(0, len(logg), 1), logg['Surface Gravity [g]'], marker='.', c='k')\n",
    "\n",
    "plt.xticks(np.arange(len(logg)))\n",
    "ax.set_xticklabels(logg['Body'], rotation='vertical')\n",
    "ax.set_ylabel('Surface gravity [g]')"
   ]
  },
  {
   "cell_type": "markdown",
   "metadata": {},
   "source": [
    "So the acceleration on Jupyter is a few times higher than that on earth, while on the Sun it'd be 30 times higher.  The force you feel during takeoff of a flight is roughly 30% larger than the acceleration due to gravity on Earth.  For our DESI white dwarf, the acceleration due to gravity on the surface is:"
   ]
  },
  {
   "cell_type": "code",
   "execution_count": null,
   "metadata": {},
   "outputs": [],
   "source": [
    "logg = 7.6 \n",
    "\n",
    "g    = 10.**7.6 # cm2 / s.\n",
    "g   /= 100.     # m2 / s\n",
    "\n",
    "g   /= 9.81     # Relative to that on Earth, i.e. [g].   \n",
    "g"
   ]
  },
  {
   "cell_type": "markdown",
   "metadata": {},
   "source": [
    "times higher than that on Earth!  In fact, if it weren't for strange restrictions on what electrons can and cannot not do (as determined by Quantum Mechanics), the White Dwarf would be so dense it would collapse entirely.  Go figure! "
   ]
  },
  {
   "cell_type": "markdown",
   "metadata": {},
   "source": [
    "Now it's your turn.  Can you find an class of object even more dense than a White Dwarf?  What is the acceleration due to gravity on its surface?  "
   ]
  },
  {
   "cell_type": "markdown",
   "metadata": {},
   "source": [
    "Harder(!)  You may be one of the first to see this White Dwarf 'up close'!  What else can you find out about it?  Here's something to get you started ... "
   ]
  },
  {
   "cell_type": "code",
   "execution_count": null,
   "metadata": {},
   "outputs": [],
   "source": [
    "model_colors = pd.read_csv('dat/WDphot/Table_DA.txt', sep='\\s+', comment='#') \n",
    "model_colors = model_colors[['Teff', 'logg', 'Age', 'G', 'G_BP', 'G_RP']]\n",
    "model_colors"
   ]
  },
  {
   "cell_type": "markdown",
   "metadata": {},
   "source": [
    "The above table shows the model prediction for colors of the white dwarf observed by GAIA, if it had the temperature, age and surface gravity (logg) shown.  "
   ]
  },
  {
   "cell_type": "markdown",
   "metadata": {},
   "source": [
    "The GAIA colors observed for the DESI white dwarf are:"
   ]
  },
  {
   "cell_type": "code",
   "execution_count": null,
   "metadata": {},
   "outputs": [],
   "source": [
    "GAIA['G_MAG'], GAIA['BP_MAG'], GAIA['RP_MAG']"
   ]
  },
  {
   "cell_type": "code",
   "execution_count": null,
   "metadata": {},
   "outputs": [],
   "source": [
    "GAIA['G_MAGERR'], GAIA['BP_MAGERR'], GAIA['RP_MAGERR']"
   ]
  },
  {
   "cell_type": "markdown",
   "metadata": {},
   "source": [
    "Can you figure out how old are White Dwarf is?  What does that say about the age of our Universe?  Does it match the estimates of other [experiments](https://www.space.com/24054-how-old-is-the-universe.html#:~:text=In%202013%2C%20Planck%20measured%20the,universe%20at%2013.82%20billion%20years.)? "
   ]
  },
  {
   "cell_type": "markdown",
   "metadata": {},
   "source": [
    "If you get stuck, or need another hint, leave us a [message](https://www.github.com/michaelJwilson/DESI-HighSchool/issues/new)! "
   ]
  }
 ],
 "metadata": {
  "kernelspec": {
   "display_name": "Python 3",
   "language": "python",
   "name": "python3"
  },
  "language_info": {
   "codemirror_mode": {
    "name": "ipython",
    "version": 3
   },
   "file_extension": ".py",
   "mimetype": "text/x-python",
   "name": "python",
   "nbconvert_exporter": "python",
   "pygments_lexer": "ipython3",
   "version": "3.8.5"
  }
 },
 "nbformat": 4,
 "nbformat_minor": 4
}
